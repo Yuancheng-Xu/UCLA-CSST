{
 "cells": [
  {
   "cell_type": "code",
   "execution_count": 2,
   "metadata": {},
   "outputs": [],
   "source": [
    "# install.packages(\"partykit\")\n",
    "# install.packages(\"pre\")\n",
    "library(\"partykit\")\n",
    "source(\"SimData.r\")\n",
    "library(\"party\")\n",
    "library(MASS)\n",
    "library(\"glmertree\")\n",
    "library(\"caret\") # importance and rfe\n",
    "source(\"SimData.r\")\n",
    "library(\"randomForest\")\n",
    "library(\"rpart\")\n",
    "library(\"fuzzyforest\")\n",
    "library(\"WGCNA\")\n",
    "library(\"pre\")\n",
    "library(REEMtree)"
   ]
  },
  {
   "cell_type": "markdown",
   "metadata": {},
   "source": [
    "# data"
   ]
  },
  {
   "cell_type": "code",
   "execution_count": 14,
   "metadata": {},
   "outputs": [
    {
     "data": {
      "text/html": [
       "<table>\n",
       "<thead><tr><th scope=col>V1</th><th scope=col>V2</th><th scope=col>V3</th><th scope=col>V4</th><th scope=col>V5</th><th scope=col>V6</th><th scope=col>V7</th><th scope=col>V8</th><th scope=col>V9</th><th scope=col>V10</th><th scope=col>...</th><th scope=col>V400</th><th scope=col>rand_int</th><th scope=col>time</th><th scope=col>treatment</th><th scope=col>patient</th><th scope=col>y</th><th scope=col>PC1</th><th scope=col>PC2</th><th scope=col>PC3</th><th scope=col>time2</th></tr></thead>\n",
       "<tbody>\n",
       "\t<tr><td>-0.7525122   </td><td>-1.3009301   </td><td>-1.5954308   </td><td>-1.3213033   </td><td>-1.1487995   </td><td>-2.031498212 </td><td>-1.5819936   </td><td>-1.1953649   </td><td>-1.07847035  </td><td>-0.91618527  </td><td>...          </td><td>-0.0749961081</td><td>-0.1793452   </td><td>1            </td><td>1            </td><td>1            </td><td>25.68078     </td><td>-11.739811   </td><td> -9.954090   </td><td>-4.5407021   </td><td> 1           </td></tr>\n",
       "\t<tr><td> 1.3467494   </td><td> 0.1496223   </td><td>-0.5085007   </td><td> 1.2139482   </td><td> 0.4379413   </td><td> 0.004003182 </td><td> 0.2903688   </td><td> 0.1238891   </td><td>-0.06029441  </td><td> 0.16995472  </td><td>...          </td><td>-0.9470827924</td><td>-0.1793452   </td><td>2            </td><td>1            </td><td>1            </td><td>16.85840     </td><td>  1.847209   </td><td>-10.700730   </td><td> 1.0096097   </td><td> 4           </td></tr>\n",
       "\t<tr><td> 1.2063365   </td><td> 1.3671147   </td><td> 1.7662599   </td><td> 1.9387756   </td><td> 1.6007378   </td><td> 1.762405447 </td><td> 1.8650487   </td><td> 1.1637020   </td><td> 1.06221789  </td><td> 1.89661535  </td><td>...          </td><td> 0.0003758095</td><td>-0.1793452   </td><td>3            </td><td>1            </td><td>1            </td><td>22.68817     </td><td> 14.788977   </td><td> -5.299017   </td><td>-0.8355472   </td><td> 9           </td></tr>\n",
       "\t<tr><td> 0.2455117   </td><td> 1.2522890   </td><td> 1.0908024   </td><td> 0.5464719   </td><td> 0.7927801   </td><td> 0.916179556 </td><td> 0.9042531   </td><td> 0.1331823   </td><td> 1.22958212  </td><td> 0.02031135  </td><td>...          </td><td>-1.5249574007</td><td>-0.1793452   </td><td>4            </td><td>1            </td><td>1            </td><td>20.00243     </td><td>  5.265443   </td><td> -9.761230   </td><td> 7.6165008   </td><td>16           </td></tr>\n",
       "\t<tr><td> 0.1536956   </td><td> 0.1154021   </td><td> 0.5989087   </td><td> 0.7043994   </td><td> 0.1675861   </td><td>-0.688508369 </td><td>-0.1574930   </td><td> 1.0713512   </td><td> 0.41732400  </td><td>-0.22136912  </td><td>...          </td><td> 0.0983516474</td><td>-0.1793452   </td><td>5            </td><td>1            </td><td>1            </td><td>29.71697     </td><td>  1.941331   </td><td>-10.304537   </td><td> 0.8757511   </td><td>25           </td></tr>\n",
       "\t<tr><td>-0.1235380   </td><td> 1.4273943   </td><td> 1.5391849   </td><td> 0.2571678   </td><td> 1.1143623   </td><td> 1.253610442 </td><td> 1.8531652   </td><td> 1.4823350   </td><td> 1.41079955  </td><td> 1.84109519  </td><td>...          </td><td>-1.5266078213</td><td> 0.9853723   </td><td>1            </td><td>1            </td><td>2            </td><td>46.12282     </td><td> 11.383983   </td><td> -6.879353   </td><td> 2.6413567   </td><td> 1           </td></tr>\n",
       "</tbody>\n",
       "</table>\n"
      ],
      "text/latex": [
       "\\begin{tabular}{r|lllllllllllllllllllllllllllllllllllllllllllllllllllllllllllllllllllllllllllllllllllllllllllllllllllllllllllllllllllllllllllllllllllllllllllllllllllllllllllllllllllllllllllllllllllllllllllllllllllllllllllllllllllllllllllllllllllllllllllllllllllllllllllllllllllllllllllllllllllllllllllllllllllllllllllllllllllllllllllllllllllllllllllllllllllllllllllllllllllllllllllllllllllllllllllllllllllllllllllllllllllllllll}\n",
       " V1 & V2 & V3 & V4 & V5 & V6 & V7 & V8 & V9 & V10 & ... & V400 & rand\\_int & time & treatment & patient & y & PC1 & PC2 & PC3 & time2\\\\\n",
       "\\hline\n",
       "\t -0.7525122    & -1.3009301    & -1.5954308    & -1.3213033    & -1.1487995    & -2.031498212  & -1.5819936    & -1.1953649    & -1.07847035   & -0.91618527   & ...           & -0.0749961081 & -0.1793452    & 1             & 1             & 1             & 25.68078      & -11.739811    &  -9.954090    & -4.5407021    &  1           \\\\\n",
       "\t  1.3467494    &  0.1496223    & -0.5085007    &  1.2139482    &  0.4379413    &  0.004003182  &  0.2903688    &  0.1238891    & -0.06029441   &  0.16995472   & ...           & -0.9470827924 & -0.1793452    & 2             & 1             & 1             & 16.85840      &   1.847209    & -10.700730    &  1.0096097    &  4           \\\\\n",
       "\t  1.2063365    &  1.3671147    &  1.7662599    &  1.9387756    &  1.6007378    &  1.762405447  &  1.8650487    &  1.1637020    &  1.06221789   &  1.89661535   & ...           &  0.0003758095 & -0.1793452    & 3             & 1             & 1             & 22.68817      &  14.788977    &  -5.299017    & -0.8355472    &  9           \\\\\n",
       "\t  0.2455117    &  1.2522890    &  1.0908024    &  0.5464719    &  0.7927801    &  0.916179556  &  0.9042531    &  0.1331823    &  1.22958212   &  0.02031135   & ...           & -1.5249574007 & -0.1793452    & 4             & 1             & 1             & 20.00243      &   5.265443    &  -9.761230    &  7.6165008    & 16           \\\\\n",
       "\t  0.1536956    &  0.1154021    &  0.5989087    &  0.7043994    &  0.1675861    & -0.688508369  & -0.1574930    &  1.0713512    &  0.41732400   & -0.22136912   & ...           &  0.0983516474 & -0.1793452    & 5             & 1             & 1             & 29.71697      &   1.941331    & -10.304537    &  0.8757511    & 25           \\\\\n",
       "\t -0.1235380    &  1.4273943    &  1.5391849    &  0.2571678    &  1.1143623    &  1.253610442  &  1.8531652    &  1.4823350    &  1.41079955   &  1.84109519   & ...           & -1.5266078213 &  0.9853723    & 1             & 1             & 2             & 46.12282      &  11.383983    &  -6.879353    &  2.6413567    &  1           \\\\\n",
       "\\end{tabular}\n"
      ],
      "text/markdown": [
       "\n",
       "| V1 | V2 | V3 | V4 | V5 | V6 | V7 | V8 | V9 | V10 | ... | V400 | rand_int | time | treatment | patient | y | PC1 | PC2 | PC3 | time2 |\n",
       "|---|---|---|---|---|---|---|---|---|---|---|---|---|---|---|---|---|---|---|---|---|\n",
       "| -0.7525122    | -1.3009301    | -1.5954308    | -1.3213033    | -1.1487995    | -2.031498212  | -1.5819936    | -1.1953649    | -1.07847035   | -0.91618527   | ...           | -0.0749961081 | -0.1793452    | 1             | 1             | 1             | 25.68078      | -11.739811    |  -9.954090    | -4.5407021    |  1            |\n",
       "|  1.3467494    |  0.1496223    | -0.5085007    |  1.2139482    |  0.4379413    |  0.004003182  |  0.2903688    |  0.1238891    | -0.06029441   |  0.16995472   | ...           | -0.9470827924 | -0.1793452    | 2             | 1             | 1             | 16.85840      |   1.847209    | -10.700730    |  1.0096097    |  4            |\n",
       "|  1.2063365    |  1.3671147    |  1.7662599    |  1.9387756    |  1.6007378    |  1.762405447  |  1.8650487    |  1.1637020    |  1.06221789   |  1.89661535   | ...           |  0.0003758095 | -0.1793452    | 3             | 1             | 1             | 22.68817      |  14.788977    |  -5.299017    | -0.8355472    |  9            |\n",
       "|  0.2455117    |  1.2522890    |  1.0908024    |  0.5464719    |  0.7927801    |  0.916179556  |  0.9042531    |  0.1331823    |  1.22958212   |  0.02031135   | ...           | -1.5249574007 | -0.1793452    | 4             | 1             | 1             | 20.00243      |   5.265443    |  -9.761230    |  7.6165008    | 16            |\n",
       "|  0.1536956    |  0.1154021    |  0.5989087    |  0.7043994    |  0.1675861    | -0.688508369  | -0.1574930    |  1.0713512    |  0.41732400   | -0.22136912   | ...           |  0.0983516474 | -0.1793452    | 5             | 1             | 1             | 29.71697      |   1.941331    | -10.304537    |  0.8757511    | 25            |\n",
       "| -0.1235380    |  1.4273943    |  1.5391849    |  0.2571678    |  1.1143623    |  1.253610442  |  1.8531652    |  1.4823350    |  1.41079955   |  1.84109519   | ...           | -1.5266078213 |  0.9853723    | 1             | 1             | 2             | 46.12282      |  11.383983    |  -6.879353    |  2.6413567    |  1            |\n",
       "\n"
      ],
      "text/plain": [
       "  V1         V2         V3         V4         V5         V6          \n",
       "1 -0.7525122 -1.3009301 -1.5954308 -1.3213033 -1.1487995 -2.031498212\n",
       "2  1.3467494  0.1496223 -0.5085007  1.2139482  0.4379413  0.004003182\n",
       "3  1.2063365  1.3671147  1.7662599  1.9387756  1.6007378  1.762405447\n",
       "4  0.2455117  1.2522890  1.0908024  0.5464719  0.7927801  0.916179556\n",
       "5  0.1536956  0.1154021  0.5989087  0.7043994  0.1675861 -0.688508369\n",
       "6 -0.1235380  1.4273943  1.5391849  0.2571678  1.1143623  1.253610442\n",
       "  V7         V8         V9          V10         ... V400          rand_int  \n",
       "1 -1.5819936 -1.1953649 -1.07847035 -0.91618527 ... -0.0749961081 -0.1793452\n",
       "2  0.2903688  0.1238891 -0.06029441  0.16995472 ... -0.9470827924 -0.1793452\n",
       "3  1.8650487  1.1637020  1.06221789  1.89661535 ...  0.0003758095 -0.1793452\n",
       "4  0.9042531  0.1331823  1.22958212  0.02031135 ... -1.5249574007 -0.1793452\n",
       "5 -0.1574930  1.0713512  0.41732400 -0.22136912 ...  0.0983516474 -0.1793452\n",
       "6  1.8531652  1.4823350  1.41079955  1.84109519 ... -1.5266078213  0.9853723\n",
       "  time treatment patient y        PC1        PC2        PC3        time2\n",
       "1 1    1         1       25.68078 -11.739811  -9.954090 -4.5407021  1   \n",
       "2 2    1         1       16.85840   1.847209 -10.700730  1.0096097  4   \n",
       "3 3    1         1       22.68817  14.788977  -5.299017 -0.8355472  9   \n",
       "4 4    1         1       20.00243   5.265443  -9.761230  7.6165008 16   \n",
       "5 5    1         1       29.71697   1.941331 -10.304537  0.8757511 25   \n",
       "6 1    1         2       46.12282  11.383983  -6.879353  2.6413567  1   "
      ]
     },
     "metadata": {},
     "output_type": "display_data"
    }
   ],
   "source": [
    "# training data\n",
    "n <- 200 # number of patients\n",
    "T <-  5 # number of observations per patients\n",
    "\n",
    "set.seed(100)\n",
    "\n",
    "data <- sim_quad(n,T)\n",
    "\n",
    "\n",
    "#add PC\n",
    "data$PC1 = (prcomp(data[,1:100], scale = TRUE)$x)[,1]\n",
    "# data$PC1 = scale(data$PC1)/norm(scale(data$PC1),type=\"2\")\n",
    "data$PC2 = (prcomp(data[,101:200], scale = TRUE)$x)[,1]\n",
    "data$PC3 = (prcomp(data[,201:300], scale = TRUE)$x)[,1]\n",
    "\n",
    "# add time_squared\n",
    "data$time2 = (data$time)^2\n",
    "\n",
    "# # add group*time interaction\n",
    "# data$time_G1 = data$time * data$group1 # b1, time*group1\n",
    "# data$time_G2 = data$time * data$group2 # b2\n",
    "# data$time2_G1 = (data$time)^2 * data$group1 # b1 time^2 * group1\n",
    "# data$time2_G2 = (data$time)^2 * data$group2 # b2\n",
    "\n",
    "\n",
    "head(data)"
   ]
  },
  {
   "cell_type": "code",
   "execution_count": 15,
   "metadata": {},
   "outputs": [
    {
     "data": {
      "text/html": [
       "<table>\n",
       "<thead><tr><th scope=col>V1</th><th scope=col>V2</th><th scope=col>V3</th><th scope=col>V4</th><th scope=col>V5</th><th scope=col>V6</th><th scope=col>V7</th><th scope=col>V8</th><th scope=col>V9</th><th scope=col>V10</th><th scope=col>...</th><th scope=col>V400</th><th scope=col>rand_int</th><th scope=col>time</th><th scope=col>treatment</th><th scope=col>patient</th><th scope=col>y</th><th scope=col>PC1</th><th scope=col>PC2</th><th scope=col>PC3</th><th scope=col>time2</th></tr></thead>\n",
       "<tbody>\n",
       "\t<tr><td>-0.1794102 </td><td>-0.7293793 </td><td>-0.5451425 </td><td>-0.6759157 </td><td>-0.69938339</td><td>-0.7425785 </td><td>-0.36740919</td><td>-0.05614226</td><td>-0.4689813 </td><td>-0.9957741 </td><td>...        </td><td> 0.04467189</td><td>0.9913158  </td><td>1          </td><td>1          </td><td>1          </td><td>17.982681  </td><td>-4.052595  </td><td>-11.7896739</td><td>-2.429686  </td><td> 1         </td></tr>\n",
       "\t<tr><td> 0.8907442 </td><td> 2.0446333 </td><td> 2.2867130 </td><td> 1.9176666 </td><td> 1.18491329</td><td> 1.4608648 </td><td> 1.57879314</td><td> 1.51672880</td><td> 1.4702505 </td><td> 1.8208692 </td><td>...        </td><td> 0.56829129</td><td>0.9913158  </td><td>2          </td><td>1          </td><td>1          </td><td>39.950832  </td><td>18.372992  </td><td> -6.1072477</td><td> 5.657972  </td><td> 4         </td></tr>\n",
       "\t<tr><td> 0.2463468 </td><td>-0.3266239 </td><td>-0.1396596 </td><td>-0.1119510 </td><td> 0.39615391</td><td> 0.7130694 </td><td>-0.56640362</td><td> 0.43538748</td><td> 0.3228802 </td><td> 0.1798426 </td><td>...        </td><td>-0.61422493</td><td>0.9913158  </td><td>3          </td><td>1          </td><td>1          </td><td>-2.840054  </td><td> 1.099723  </td><td> -2.7001757</td><td>-5.626646  </td><td> 9         </td></tr>\n",
       "\t<tr><td>-0.6415846 </td><td>-0.1170245 </td><td>-1.2137791 </td><td>-1.4818147 </td><td>-1.02402806</td><td>-0.8341220 </td><td>-0.92867891</td><td>-0.63758937</td><td>-1.6522012 </td><td>-1.5747861 </td><td>...        </td><td> 0.56752086</td><td>0.9913158  </td><td>4          </td><td>1          </td><td>1          </td><td>-5.957963  </td><td>-8.471346  </td><td> -5.2856326</td><td> 2.560440  </td><td>16         </td></tr>\n",
       "\t<tr><td>-1.2865155 </td><td> 0.1642321 </td><td> 0.6040035 </td><td>-0.2489238 </td><td>-0.39677846</td><td> 0.3232312 </td><td> 0.02991788</td><td>-0.93041047</td><td>-0.5375453 </td><td> 0.2817597 </td><td>...        </td><td> 0.18072176</td><td>0.9913158  </td><td>5          </td><td>1          </td><td>1          </td><td>11.513002  </td><td> 0.974368  </td><td> -0.1528867</td><td> 3.451664  </td><td>25         </td></tr>\n",
       "\t<tr><td> 0.6467019 </td><td>-0.6255761 </td><td> 0.4649954 </td><td> 0.4595883 </td><td> 0.08918262</td><td>-0.4334162 </td><td> 0.08811692</td><td> 0.20140550</td><td> 0.1705507 </td><td>-0.2342035 </td><td>...        </td><td>-3.27472578</td><td>0.6967010  </td><td>1          </td><td>1          </td><td>2          </td><td>19.294548  </td><td> 2.479159  </td><td>  2.4828303</td><td>11.382378  </td><td> 1         </td></tr>\n",
       "</tbody>\n",
       "</table>\n"
      ],
      "text/latex": [
       "\\begin{tabular}{r|lllllllllllllllllllllllllllllllllllllllllllllllllllllllllllllllllllllllllllllllllllllllllllllllllllllllllllllllllllllllllllllllllllllllllllllllllllllllllllllllllllllllllllllllllllllllllllllllllllllllllllllllllllllllllllllllllllllllllllllllllllllllllllllllllllllllllllllllllllllllllllllllllllllllllllllllllllllllllllllllllllllllllllllllllllllllllllllllllllllllllllllllllllllllllllllllllllllllllllllllllllllllll}\n",
       " V1 & V2 & V3 & V4 & V5 & V6 & V7 & V8 & V9 & V10 & ... & V400 & rand\\_int & time & treatment & patient & y & PC1 & PC2 & PC3 & time2\\\\\n",
       "\\hline\n",
       "\t -0.1794102  & -0.7293793  & -0.5451425  & -0.6759157  & -0.69938339 & -0.7425785  & -0.36740919 & -0.05614226 & -0.4689813  & -0.9957741  & ...         &  0.04467189 & 0.9913158   & 1           & 1           & 1           & 17.982681   & -4.052595   & -11.7896739 & -2.429686   &  1         \\\\\n",
       "\t  0.8907442  &  2.0446333  &  2.2867130  &  1.9176666  &  1.18491329 &  1.4608648  &  1.57879314 &  1.51672880 &  1.4702505  &  1.8208692  & ...         &  0.56829129 & 0.9913158   & 2           & 1           & 1           & 39.950832   & 18.372992   &  -6.1072477 &  5.657972   &  4         \\\\\n",
       "\t  0.2463468  & -0.3266239  & -0.1396596  & -0.1119510  &  0.39615391 &  0.7130694  & -0.56640362 &  0.43538748 &  0.3228802  &  0.1798426  & ...         & -0.61422493 & 0.9913158   & 3           & 1           & 1           & -2.840054   &  1.099723   &  -2.7001757 & -5.626646   &  9         \\\\\n",
       "\t -0.6415846  & -0.1170245  & -1.2137791  & -1.4818147  & -1.02402806 & -0.8341220  & -0.92867891 & -0.63758937 & -1.6522012  & -1.5747861  & ...         &  0.56752086 & 0.9913158   & 4           & 1           & 1           & -5.957963   & -8.471346   &  -5.2856326 &  2.560440   & 16         \\\\\n",
       "\t -1.2865155  &  0.1642321  &  0.6040035  & -0.2489238  & -0.39677846 &  0.3232312  &  0.02991788 & -0.93041047 & -0.5375453  &  0.2817597  & ...         &  0.18072176 & 0.9913158   & 5           & 1           & 1           & 11.513002   &  0.974368   &  -0.1528867 &  3.451664   & 25         \\\\\n",
       "\t  0.6467019  & -0.6255761  &  0.4649954  &  0.4595883  &  0.08918262 & -0.4334162  &  0.08811692 &  0.20140550 &  0.1705507  & -0.2342035  & ...         & -3.27472578 & 0.6967010   & 1           & 1           & 2           & 19.294548   &  2.479159   &   2.4828303 & 11.382378   &  1         \\\\\n",
       "\\end{tabular}\n"
      ],
      "text/markdown": [
       "\n",
       "| V1 | V2 | V3 | V4 | V5 | V6 | V7 | V8 | V9 | V10 | ... | V400 | rand_int | time | treatment | patient | y | PC1 | PC2 | PC3 | time2 |\n",
       "|---|---|---|---|---|---|---|---|---|---|---|---|---|---|---|---|---|---|---|---|---|\n",
       "| -0.1794102  | -0.7293793  | -0.5451425  | -0.6759157  | -0.69938339 | -0.7425785  | -0.36740919 | -0.05614226 | -0.4689813  | -0.9957741  | ...         |  0.04467189 | 0.9913158   | 1           | 1           | 1           | 17.982681   | -4.052595   | -11.7896739 | -2.429686   |  1          |\n",
       "|  0.8907442  |  2.0446333  |  2.2867130  |  1.9176666  |  1.18491329 |  1.4608648  |  1.57879314 |  1.51672880 |  1.4702505  |  1.8208692  | ...         |  0.56829129 | 0.9913158   | 2           | 1           | 1           | 39.950832   | 18.372992   |  -6.1072477 |  5.657972   |  4          |\n",
       "|  0.2463468  | -0.3266239  | -0.1396596  | -0.1119510  |  0.39615391 |  0.7130694  | -0.56640362 |  0.43538748 |  0.3228802  |  0.1798426  | ...         | -0.61422493 | 0.9913158   | 3           | 1           | 1           | -2.840054   |  1.099723   |  -2.7001757 | -5.626646   |  9          |\n",
       "| -0.6415846  | -0.1170245  | -1.2137791  | -1.4818147  | -1.02402806 | -0.8341220  | -0.92867891 | -0.63758937 | -1.6522012  | -1.5747861  | ...         |  0.56752086 | 0.9913158   | 4           | 1           | 1           | -5.957963   | -8.471346   |  -5.2856326 |  2.560440   | 16          |\n",
       "| -1.2865155  |  0.1642321  |  0.6040035  | -0.2489238  | -0.39677846 |  0.3232312  |  0.02991788 | -0.93041047 | -0.5375453  |  0.2817597  | ...         |  0.18072176 | 0.9913158   | 5           | 1           | 1           | 11.513002   |  0.974368   |  -0.1528867 |  3.451664   | 25          |\n",
       "|  0.6467019  | -0.6255761  |  0.4649954  |  0.4595883  |  0.08918262 | -0.4334162  |  0.08811692 |  0.20140550 |  0.1705507  | -0.2342035  | ...         | -3.27472578 | 0.6967010   | 1           | 1           | 2           | 19.294548   |  2.479159   |   2.4828303 | 11.382378   |  1          |\n",
       "\n"
      ],
      "text/plain": [
       "  V1         V2         V3         V4         V5          V6        \n",
       "1 -0.1794102 -0.7293793 -0.5451425 -0.6759157 -0.69938339 -0.7425785\n",
       "2  0.8907442  2.0446333  2.2867130  1.9176666  1.18491329  1.4608648\n",
       "3  0.2463468 -0.3266239 -0.1396596 -0.1119510  0.39615391  0.7130694\n",
       "4 -0.6415846 -0.1170245 -1.2137791 -1.4818147 -1.02402806 -0.8341220\n",
       "5 -1.2865155  0.1642321  0.6040035 -0.2489238 -0.39677846  0.3232312\n",
       "6  0.6467019 -0.6255761  0.4649954  0.4595883  0.08918262 -0.4334162\n",
       "  V7          V8          V9         V10        ... V400        rand_int  time\n",
       "1 -0.36740919 -0.05614226 -0.4689813 -0.9957741 ...  0.04467189 0.9913158 1   \n",
       "2  1.57879314  1.51672880  1.4702505  1.8208692 ...  0.56829129 0.9913158 2   \n",
       "3 -0.56640362  0.43538748  0.3228802  0.1798426 ... -0.61422493 0.9913158 3   \n",
       "4 -0.92867891 -0.63758937 -1.6522012 -1.5747861 ...  0.56752086 0.9913158 4   \n",
       "5  0.02991788 -0.93041047 -0.5375453  0.2817597 ...  0.18072176 0.9913158 5   \n",
       "6  0.08811692  0.20140550  0.1705507 -0.2342035 ... -3.27472578 0.6967010 1   \n",
       "  treatment patient y         PC1       PC2         PC3       time2\n",
       "1 1         1       17.982681 -4.052595 -11.7896739 -2.429686  1   \n",
       "2 1         1       39.950832 18.372992  -6.1072477  5.657972  4   \n",
       "3 1         1       -2.840054  1.099723  -2.7001757 -5.626646  9   \n",
       "4 1         1       -5.957963 -8.471346  -5.2856326  2.560440 16   \n",
       "5 1         1       11.513002  0.974368  -0.1528867  3.451664 25   \n",
       "6 1         2       19.294548  2.479159   2.4828303 11.382378  1   "
      ]
     },
     "metadata": {},
     "output_type": "display_data"
    }
   ],
   "source": [
    "# testing data\n",
    "n_test <- 100 # number of patients\n",
    "T <-  5 # number of observations per patients\n",
    "\n",
    "set.seed(101)\n",
    "\n",
    "data_test <- sim_quad(n_test, T)\n",
    "\n",
    "\n",
    "#add PC: only for testing; In our final algorithm we don't need PC of test data\n",
    "data_test$PC1 = (prcomp(data_test[,1:100], scale = TRUE)$x)[,1]\n",
    "# data$PC1 = scale(data$PC1)/norm(scale(data$PC1),type=\"2\")\n",
    "data_test$PC2 = (prcomp(data_test[,101:200], scale = TRUE)$x)[,1]\n",
    "data_test$PC3 = (prcomp(data_test[,201:300], scale = TRUE)$x)[,1]\n",
    "\n",
    "# add time_squared\n",
    "data_test$time2 = (data_test$time)^2\n",
    "\n",
    "# add group*time interaction\n",
    "# data_test$time_G1 = data_test$time * data_test$group1 # b1, time*group1\n",
    "# data_test$time_G2 = data_test$time * data_test$group2 # b2\n",
    "# data_test$time2_G1 = (data_test$time)^2 * data_test$group1 # b1 time^2 * group1\n",
    "# data_test$time2_G2 = (data_test$time)^2 * data_test$group2 # b2\n",
    "\n",
    "head(data_test)"
   ]
  },
  {
   "cell_type": "code",
   "execution_count": 16,
   "metadata": {},
   "outputs": [],
   "source": [
    "# Methods for extracting names of splitting features used in a tree\n",
    "# tree: a tree object; data: the train or test set\n",
    "get_split_names = function(tree,data){\n",
    "    # path: the string that contains all the node information\n",
    "    paths <- pre:::list.rules(tree, removecomplements = FALSE)\n",
    "    vnames = names(data)\n",
    "    # the regex for a variable\n",
    "    # tomatch = paste(paste(var,\"<=\"),\"|\",paste(var,\">\"),sep=\"\")\n",
    "    # match to tomatch in path\n",
    "    tmp = vnames[sapply(sapply(vnames, FUN = function(var) grep(paste(paste(var,\"<=\"),\"|\",paste(var,\">\"),sep=\"\"), paths)), length) > 0]\n",
    "    return (tmp)\n",
    "}"
   ]
  },
  {
   "cell_type": "markdown",
   "metadata": {},
   "source": [
    "If use model REEM tree on this data directly, without WGCNA: It loses features from the independent groups"
   ]
  },
  {
   "cell_type": "code",
   "execution_count": 31,
   "metadata": {},
   "outputs": [
    {
     "data": {
      "text/html": [
       "<ol class=list-inline>\n",
       "\t<li>'V1'</li>\n",
       "\t<li>'V2'</li>\n",
       "\t<li>'V3'</li>\n",
       "\t<li>'V14'</li>\n",
       "\t<li>'V26'</li>\n",
       "\t<li>'V80'</li>\n",
       "\t<li>'V301'</li>\n",
       "</ol>\n"
      ],
      "text/latex": [
       "\\begin{enumerate*}\n",
       "\\item 'V1'\n",
       "\\item 'V2'\n",
       "\\item 'V3'\n",
       "\\item 'V14'\n",
       "\\item 'V26'\n",
       "\\item 'V80'\n",
       "\\item 'V301'\n",
       "\\end{enumerate*}\n"
      ],
      "text/markdown": [
       "1. 'V1'\n",
       "2. 'V2'\n",
       "3. 'V3'\n",
       "4. 'V14'\n",
       "5. 'V26'\n",
       "6. 'V80'\n",
       "7. 'V301'\n",
       "\n",
       "\n"
      ],
      "text/plain": [
       "[1] \"V1\"   \"V2\"   \"V3\"   \"V14\"  \"V26\"  \"V80\"  \"V301\""
      ]
     },
     "metadata": {},
     "output_type": "display_data"
    },
    {
     "data": {
      "text/html": [
       "81.6835754685821"
      ],
      "text/latex": [
       "81.6835754685821"
      ],
      "text/markdown": [
       "81.6835754685821"
      ],
      "text/plain": [
       "[1] 81.68358"
      ]
     },
     "metadata": {},
     "output_type": "display_data"
    }
   ],
   "source": [
    "# The most naive way\n",
    "split_var = c(paste(\"V\",1:400,sep=\"\"),\"treatment\")\n",
    "regress_var = c(\"time2\",\"time\")\n",
    "Formula = as.formula(paste(\"y~\",paste(regress_var,collapse = \"+\"),\n",
    "                           \"|\",\"patient\",\"|\",\n",
    "                         paste(split_var,collapse = \"+\")))\n",
    "mytree = lmertree(Formula, data = data,alpha = 0.2,maxdepth=5) \n",
    "get_split_names(mytree$tree,data)\n",
    "mean((predict(mytree,newdata=data_test)-data_test$y)**2)"
   ]
  },
  {
   "cell_type": "code",
   "execution_count": 32,
   "metadata": {},
   "outputs": [
    {
     "data": {
      "text/html": [
       "<ol class=list-inline>\n",
       "\t<li>'V2'</li>\n",
       "\t<li>'V3'</li>\n",
       "\t<li>'V26'</li>\n",
       "</ol>\n"
      ],
      "text/latex": [
       "\\begin{enumerate*}\n",
       "\\item 'V2'\n",
       "\\item 'V3'\n",
       "\\item 'V26'\n",
       "\\end{enumerate*}\n"
      ],
      "text/markdown": [
       "1. 'V2'\n",
       "2. 'V3'\n",
       "3. 'V26'\n",
       "\n",
       "\n"
      ],
      "text/plain": [
       "[1] \"V2\"  \"V3\"  \"V26\""
      ]
     },
     "metadata": {},
     "output_type": "display_data"
    },
    {
     "data": {
      "text/html": [
       "42.0090273244066"
      ],
      "text/latex": [
       "42.0090273244066"
      ],
      "text/markdown": [
       "42.0090273244066"
      ],
      "text/plain": [
       "[1] 42.00903"
      ]
     },
     "metadata": {},
     "output_type": "display_data"
    }
   ],
   "source": [
    "# If we select feature and put them in split_var too\n",
    "final_var = paste(\"V\",c(1,2,3,14,26,80,301),sep=\"\")\n",
    "# use the final features as split&regression variables\n",
    "split_var = c(final_var,\"treatment\")\n",
    "regress_var = c(\"time2\",\"time\",final_var)\n",
    "Formula = as.formula(paste(\"y~\",paste(regress_var,collapse = \"+\"),\n",
    "                           \"|\",\"patient\",\"|\",\n",
    "                         paste(split_var,collapse = \"+\")))\n",
    "mytree = lmertree(Formula, data = data,alpha = 0.2,maxdepth=5) \n",
    "get_split_names(mytree$tree,data)\n",
    "mean((predict(mytree,newdata=data_test)-data_test$y)**2)"
   ]
  },
  {
   "cell_type": "markdown",
   "metadata": {},
   "source": [
    "# Automatic version"
   ]
  },
  {
   "cell_type": "code",
   "execution_count": 17,
   "metadata": {},
   "outputs": [],
   "source": [
    "start_time <- Sys.time()\n",
    "\n",
    "data_WGCNA = data[,1:400] # only the covariates\n",
    "# choose power = 6, which is not quite correct\n",
    "# Please set numericLabels = FALSE so that the label is one color (string)\n",
    "# if verbose = 3, show some details\n",
    "net = blockwiseModules(data_WGCNA, power = 6,TOMType = \"unsigned\", \n",
    "                       minModuleSize = 30,reassignThreshold = 0, \n",
    "                       mergeCutHeight = 0.25,numericLabels = FALSE, \n",
    "                       pamRespectsDendro = FALSE,verbose = 0)\n",
    "\n",
    "# the correspondance betweeen feature names and colors\n",
    "colors = net$colors # it is a string vector with names (that is the name is V1)\n",
    "# Get a list with the first element being all the names of first groups and so on\n",
    "# all the names of modules\n",
    "module_names = unique(colors) # all colors name\n",
    "\n",
    "# a vector with name(index) = names of modules and value = the corresponding names\n",
    "# of features (like a dictionary)\n",
    "module_dic = list()\n",
    "for (i in 1:length(module_names)){\n",
    "    module_dic[[module_names[i]]] = names(colors[colors==module_names[i]])\n",
    "}\n",
    "# module_dic"
   ]
  },
  {
   "cell_type": "code",
   "execution_count": 18,
   "metadata": {},
   "outputs": [],
   "source": [
    "##### eigengene: here we may not need this since we have time as regressor ####\n",
    "# # extract eigengenes and rename the column.\n",
    "# # The eigengene(1st pricinpal component) is L2 normalized\n",
    "# eigengene = net$MEs\n",
    "# # eigengene\n",
    "# # add eigengen to training data\n",
    "# for (name in module_names){\n",
    "#     if (name == \"grey\"){\n",
    "#         next\n",
    "#     }\n",
    "#     eigen_name = paste(\"ME\",name,sep=\"\")\n",
    "#     data[[eigen_name]] = eigengene[[eigen_name]]\n",
    "# }\n",
    "# # head(data)\n",
    "##### end eigengene ####"
   ]
  },
  {
   "cell_type": "code",
   "execution_count": 19,
   "metadata": {},
   "outputs": [
    {
     "name": "stderr",
     "output_type": "stream",
     "text": [
      "boundary (singular) fit: see ?isSingular\n",
      "boundary (singular) fit: see ?isSingular\n"
     ]
    },
    {
     "data": {
      "text/html": [
       "<ol>\n",
       "\t<li><ol class=list-inline>\n",
       "\t<li>'V1'</li>\n",
       "\t<li>'V2'</li>\n",
       "\t<li>'V3'</li>\n",
       "\t<li>'V13'</li>\n",
       "\t<li>'V22'</li>\n",
       "\t<li>'V68'</li>\n",
       "</ol>\n",
       "</li>\n",
       "\t<li></li>\n",
       "\t<li></li>\n",
       "\t<li><ol class=list-inline>\n",
       "\t<li>'V301'</li>\n",
       "\t<li>'V303'</li>\n",
       "</ol>\n",
       "</li>\n",
       "</ol>\n"
      ],
      "text/latex": [
       "\\begin{enumerate}\n",
       "\\item \\begin{enumerate*}\n",
       "\\item 'V1'\n",
       "\\item 'V2'\n",
       "\\item 'V3'\n",
       "\\item 'V13'\n",
       "\\item 'V22'\n",
       "\\item 'V68'\n",
       "\\end{enumerate*}\n",
       "\n",
       "\\item \n",
       "\\item \n",
       "\\item \\begin{enumerate*}\n",
       "\\item 'V301'\n",
       "\\item 'V303'\n",
       "\\end{enumerate*}\n",
       "\n",
       "\\end{enumerate}\n"
      ],
      "text/markdown": [
       "1. 1. 'V1'\n",
       "2. 'V2'\n",
       "3. 'V3'\n",
       "4. 'V13'\n",
       "5. 'V22'\n",
       "6. 'V68'\n",
       "\n",
       "\n",
       "\n",
       "2. \n",
       "3. \n",
       "4. 1. 'V301'\n",
       "2. 'V303'\n",
       "\n",
       "\n",
       "\n",
       "\n",
       "\n"
      ],
      "text/plain": [
       "[[1]]\n",
       "[1] \"V1\"  \"V2\"  \"V3\"  \"V13\" \"V22\" \"V68\"\n",
       "\n",
       "[[2]]\n",
       "character(0)\n",
       "\n",
       "[[3]]\n",
       "character(0)\n",
       "\n",
       "[[4]]\n",
       "[1] \"V301\" \"V303\"\n"
      ]
     },
     "metadata": {},
     "output_type": "display_data"
    }
   ],
   "source": [
    "imp_var = list() # used to store the names of important features\n",
    "cluster_var = \"patient\" # the name should be specified by the users\n",
    "\n",
    "# For each module including grey, use model tree as following:\n",
    "# use its time and time2 as regression variables\n",
    "# use all features in the module + treatment as splitting variables\n",
    "# Finally, use all the chosen features for splitting and regression variables\n",
    "\n",
    "# for non-grey groups\n",
    "for (name in module_names){\n",
    "    \n",
    "    # in the formula, add treatment as split_var, also include the module features\n",
    "    split_var = c(module_dic[[name]],\"treatment\")\n",
    "    \n",
    "    # use time and time2 as regressor\n",
    "    regress_var = c(\"time2\",\"time\")\n",
    "    \n",
    "    # Formula for lmtree: use PC as regressors\n",
    "    Formula = as.formula(paste(\"y~\",paste(regress_var,collapse = \"+\"),\n",
    "                           \"|\",cluster_var,\"|\",\n",
    "                paste(split_var,collapse = \"+\")))\n",
    "    \n",
    "    # fit the tree\n",
    "    mytree = lmertree(Formula, data = data,alpha = 0.2,maxdepth=5) \n",
    "    \n",
    "    #extract important features\n",
    "    imp_var[[length(imp_var)+1]] = get_split_names(mytree$tree,data)\n",
    "    \n",
    "#     plot(mytree)\n",
    "#     flush.console()\n",
    "#     cat(\"\\n\",get_split_names(mytree$tree,data),\"\\n\")\n",
    "    # to print the error, we have to add PC to test data\n",
    "#     print(mean((predict(mytree,newdata=data_test)-data_test$y)**2))\n",
    "}\n",
    "\n",
    "\n",
    "imp_var "
   ]
  },
  {
   "cell_type": "code",
   "execution_count": 20,
   "metadata": {},
   "outputs": [
    {
     "data": {
      "text/html": [
       "<ol class=list-inline>\n",
       "\t<li>'V1'</li>\n",
       "\t<li>'V2'</li>\n",
       "\t<li>'V3'</li>\n",
       "\t<li>'V13'</li>\n",
       "\t<li>'V22'</li>\n",
       "\t<li>'V68'</li>\n",
       "\t<li>'V301'</li>\n",
       "\t<li>'V303'</li>\n",
       "</ol>\n"
      ],
      "text/latex": [
       "\\begin{enumerate*}\n",
       "\\item 'V1'\n",
       "\\item 'V2'\n",
       "\\item 'V3'\n",
       "\\item 'V13'\n",
       "\\item 'V22'\n",
       "\\item 'V68'\n",
       "\\item 'V301'\n",
       "\\item 'V303'\n",
       "\\end{enumerate*}\n"
      ],
      "text/markdown": [
       "1. 'V1'\n",
       "2. 'V2'\n",
       "3. 'V3'\n",
       "4. 'V13'\n",
       "5. 'V22'\n",
       "6. 'V68'\n",
       "7. 'V301'\n",
       "8. 'V303'\n",
       "\n",
       "\n"
      ],
      "text/plain": [
       "[1] \"V1\"   \"V2\"   \"V3\"   \"V13\"  \"V22\"  \"V68\"  \"V301\" \"V303\""
      ]
     },
     "metadata": {},
     "output_type": "display_data"
    }
   ],
   "source": [
    "# the variables selected from all the modules\n",
    "final_var = imp_var[[1]]\n",
    "if (length(imp_var)>1){\n",
    "    for (i in 2:length(imp_var)){\n",
    "    final_var = c(final_var,imp_var[[i]])\n",
    " }\n",
    "}\n",
    "final_var"
   ]
  },
  {
   "cell_type": "code",
   "execution_count": 21,
   "metadata": {},
   "outputs": [
    {
     "data": {
      "text/html": [
       "<ol class=list-inline>\n",
       "\t<li>'V1'</li>\n",
       "\t<li>'V2'</li>\n",
       "\t<li>'V3'</li>\n",
       "\t<li>'V13'</li>\n",
       "\t<li>'V22'</li>\n",
       "\t<li>'V68'</li>\n",
       "\t<li>'V301'</li>\n",
       "\t<li>'V303'</li>\n",
       "</ol>\n"
      ],
      "text/latex": [
       "\\begin{enumerate*}\n",
       "\\item 'V1'\n",
       "\\item 'V2'\n",
       "\\item 'V3'\n",
       "\\item 'V13'\n",
       "\\item 'V22'\n",
       "\\item 'V68'\n",
       "\\item 'V301'\n",
       "\\item 'V303'\n",
       "\\end{enumerate*}\n"
      ],
      "text/markdown": [
       "1. 'V1'\n",
       "2. 'V2'\n",
       "3. 'V3'\n",
       "4. 'V13'\n",
       "5. 'V22'\n",
       "6. 'V68'\n",
       "7. 'V301'\n",
       "8. 'V303'\n",
       "\n",
       "\n"
      ],
      "text/plain": [
       "[1] \"V1\"   \"V2\"   \"V3\"   \"V13\"  \"V22\"  \"V68\"  \"V301\" \"V303\""
      ]
     },
     "metadata": {},
     "output_type": "display_data"
    }
   ],
   "source": [
    "# the final selection among all the chosen features \n",
    "regress_var = c(\"time2\",\"time\")\n",
    "split_var = c(final_var,\"treatment\")\n",
    "Formula = as.formula(paste(\"y~\",paste(regress_var,collapse = \"+\"),\n",
    "                           \"|\",cluster_var,\"|\",\n",
    "                         paste(split_var,collapse = \"+\")))\n",
    "mytree = lmertree(Formula, data = data,alpha = 0.2,maxdepth=8) \n",
    "final_var = get_split_names(mytree$tree,data)\n",
    "final_var"
   ]
  },
  {
   "cell_type": "code",
   "execution_count": 22,
   "metadata": {},
   "outputs": [],
   "source": [
    "# final_var = paste(\"V\",c(1,2,3,301,302,303),sep=\"\") # if cheating"
   ]
  },
  {
   "cell_type": "code",
   "execution_count": 23,
   "metadata": {},
   "outputs": [],
   "source": [
    "# use the final features as split&regression variables\n",
    "split_var = c(final_var,\"treatment\")\n",
    "regress_var = c(\"time2\",\"time\",final_var)\n",
    "Formula = as.formula(paste(\"y~\",paste(regress_var,collapse = \"+\"),\n",
    "                           \"|\",cluster_var,\"|\",\n",
    "                         paste(split_var,collapse = \"+\")))\n",
    "mytree = lmertree(Formula, data = data,alpha = 0.2,maxdepth=5) "
   ]
  },
  {
   "cell_type": "code",
   "execution_count": 24,
   "metadata": {},
   "outputs": [
    {
     "data": {
      "text/plain": [
       "Time difference of 15.70953 secs"
      ]
     },
     "metadata": {},
     "output_type": "display_data"
    },
    {
     "data": {
      "text/html": [
       "39.7442312266764"
      ],
      "text/latex": [
       "39.7442312266764"
      ],
      "text/markdown": [
       "39.7442312266764"
      ],
      "text/plain": [
       "[1] 39.74423"
      ]
     },
     "metadata": {},
     "output_type": "display_data"
    },
    {
     "name": "stdout",
     "output_type": "stream",
     "text": [
      "$patient\n"
     ]
    },
    {
     "data": {
      "image/png": "[encoded data removed]",
      "text/plain": [
       "plot without title"
      ]
     },
     "metadata": {},
     "output_type": "display_data"
    },
    {
     "name": "stdout",
     "output_type": "stream",
     "text": [
      "\n"
     ]
    },
    {
     "data": {
      "image/png": "[encoded data removed]",
      "text/plain": [
       "plot without title"
      ]
     },
     "metadata": {},
     "output_type": "display_data"
    }
   ],
   "source": [
    "end_time <- Sys.time()\n",
    "end_time - start_time # running time\n",
    "\n",
    "mean((predict(mytree,newdata=data_test)-data_test$y)**2)\n",
    "plot(mytree)"
   ]
  },
  {
   "cell_type": "code",
   "execution_count": 25,
   "metadata": {},
   "outputs": [
    {
     "data": {
      "text/html": [
       "<table>\n",
       "<thead><tr><th></th><th scope=col>(Intercept)</th><th scope=col>time2</th><th scope=col>time</th><th scope=col>V1</th><th scope=col>V2</th><th scope=col>V3</th><th scope=col>V13</th><th scope=col>V22</th><th scope=col>V68</th><th scope=col>V301</th><th scope=col>V303</th></tr></thead>\n",
       "<tbody>\n",
       "\t<tr><th scope=row>4</th><td> 34.54111  </td><td> 4.886023  </td><td>-29.25761  </td><td>3.798234   </td><td>-6.698916  </td><td>-5.1146613 </td><td>-0.4384340 </td><td> 3.82130484</td><td>-1.13967710</td><td>5.330209   </td><td>1.305492   </td></tr>\n",
       "\t<tr><th scope=row>5</th><td> 41.21406  </td><td> 4.780231  </td><td>-28.60833  </td><td>4.160007   </td><td>-1.886795  </td><td>-0.6239433 </td><td> 0.3072264 </td><td>-0.30547772</td><td>-0.09986067</td><td>4.623576   </td><td>1.053775   </td></tr>\n",
       "\t<tr><th scope=row>7</th><td> 44.70001  </td><td> 5.137619  </td><td>-30.83944  </td><td>5.598557   </td><td> 5.287817  </td><td> 3.4201778 </td><td> 0.7478512 </td><td>-0.27333752</td><td>-0.56816910</td><td>4.979449   </td><td>1.241307   </td></tr>\n",
       "\t<tr><th scope=row>8</th><td> 43.42821  </td><td> 5.743171  </td><td>-34.57631  </td><td>5.215773   </td><td> 7.864113  </td><td>11.2514227 </td><td>-0.5102950 </td><td> 1.10789397</td><td>-2.45805127</td><td>4.953191   </td><td>3.249709   </td></tr>\n",
       "\t<tr><th scope=row>11</th><td>-56.49109  </td><td>-5.178971  </td><td> 30.78234  </td><td>4.320199   </td><td>-5.742974  </td><td>-6.0566980 </td><td> 1.6615713 </td><td> 0.68626971</td><td>-1.02060754</td><td>5.331632   </td><td>1.439171   </td></tr>\n",
       "\t<tr><th scope=row>12</th><td>-45.56877  </td><td>-5.161528  </td><td> 30.43438  </td><td>5.294826   </td><td>-1.431948  </td><td>-2.0179606 </td><td> 0.8563530 </td><td> 1.25748365</td><td> 0.52724894</td><td>4.543242   </td><td>1.191853   </td></tr>\n",
       "\t<tr><th scope=row>14</th><td>-42.48134  </td><td>-4.455033  </td><td> 27.14678  </td><td>3.011768   </td><td> 2.786672  </td><td> 6.0636405 </td><td>-1.2957589 </td><td> 1.31529746</td><td> 1.41752731</td><td>4.830919   </td><td>2.199437   </td></tr>\n",
       "\t<tr><th scope=row>15</th><td>-56.82164  </td><td>-4.986914  </td><td> 30.64594  </td><td>3.546544   </td><td> 8.618219  </td><td>10.7279041 </td><td> 1.8568018 </td><td>-0.04282177</td><td>-0.44470274</td><td>5.503159   </td><td>2.866828   </td></tr>\n",
       "</tbody>\n",
       "</table>\n"
      ],
      "text/latex": [
       "\\begin{tabular}{r|lllllllllll}\n",
       "  & (Intercept) & time2 & time & V1 & V2 & V3 & V13 & V22 & V68 & V301 & V303\\\\\n",
       "\\hline\n",
       "\t4 &  34.54111   &  4.886023   & -29.25761   & 3.798234    & -6.698916   & -5.1146613  & -0.4384340  &  3.82130484 & -1.13967710 & 5.330209    & 1.305492   \\\\\n",
       "\t5 &  41.21406   &  4.780231   & -28.60833   & 4.160007    & -1.886795   & -0.6239433  &  0.3072264  & -0.30547772 & -0.09986067 & 4.623576    & 1.053775   \\\\\n",
       "\t7 &  44.70001   &  5.137619   & -30.83944   & 5.598557    &  5.287817   &  3.4201778  &  0.7478512  & -0.27333752 & -0.56816910 & 4.979449    & 1.241307   \\\\\n",
       "\t8 &  43.42821   &  5.743171   & -34.57631   & 5.215773    &  7.864113   & 11.2514227  & -0.5102950  &  1.10789397 & -2.45805127 & 4.953191    & 3.249709   \\\\\n",
       "\t11 & -56.49109   & -5.178971   &  30.78234   & 4.320199    & -5.742974   & -6.0566980  &  1.6615713  &  0.68626971 & -1.02060754 & 5.331632    & 1.439171   \\\\\n",
       "\t12 & -45.56877   & -5.161528   &  30.43438   & 5.294826    & -1.431948   & -2.0179606  &  0.8563530  &  1.25748365 &  0.52724894 & 4.543242    & 1.191853   \\\\\n",
       "\t14 & -42.48134   & -4.455033   &  27.14678   & 3.011768    &  2.786672   &  6.0636405  & -1.2957589  &  1.31529746 &  1.41752731 & 4.830919    & 2.199437   \\\\\n",
       "\t15 & -56.82164   & -4.986914   &  30.64594   & 3.546544    &  8.618219   & 10.7279041  &  1.8568018  & -0.04282177 & -0.44470274 & 5.503159    & 2.866828   \\\\\n",
       "\\end{tabular}\n"
      ],
      "text/markdown": [
       "\n",
       "| <!--/--> | (Intercept) | time2 | time | V1 | V2 | V3 | V13 | V22 | V68 | V301 | V303 |\n",
       "|---|---|---|---|---|---|---|---|---|---|---|---|\n",
       "| 4 |  34.54111   |  4.886023   | -29.25761   | 3.798234    | -6.698916   | -5.1146613  | -0.4384340  |  3.82130484 | -1.13967710 | 5.330209    | 1.305492    |\n",
       "| 5 |  41.21406   |  4.780231   | -28.60833   | 4.160007    | -1.886795   | -0.6239433  |  0.3072264  | -0.30547772 | -0.09986067 | 4.623576    | 1.053775    |\n",
       "| 7 |  44.70001   |  5.137619   | -30.83944   | 5.598557    |  5.287817   |  3.4201778  |  0.7478512  | -0.27333752 | -0.56816910 | 4.979449    | 1.241307    |\n",
       "| 8 |  43.42821   |  5.743171   | -34.57631   | 5.215773    |  7.864113   | 11.2514227  | -0.5102950  |  1.10789397 | -2.45805127 | 4.953191    | 3.249709    |\n",
       "| 11 | -56.49109   | -5.178971   |  30.78234   | 4.320199    | -5.742974   | -6.0566980  |  1.6615713  |  0.68626971 | -1.02060754 | 5.331632    | 1.439171    |\n",
       "| 12 | -45.56877   | -5.161528   |  30.43438   | 5.294826    | -1.431948   | -2.0179606  |  0.8563530  |  1.25748365 |  0.52724894 | 4.543242    | 1.191853    |\n",
       "| 14 | -42.48134   | -4.455033   |  27.14678   | 3.011768    |  2.786672   |  6.0636405  | -1.2957589  |  1.31529746 |  1.41752731 | 4.830919    | 2.199437    |\n",
       "| 15 | -56.82164   | -4.986914   |  30.64594   | 3.546544    |  8.618219   | 10.7279041  |  1.8568018  | -0.04282177 | -0.44470274 | 5.503159    | 2.866828    |\n",
       "\n"
      ],
      "text/plain": [
       "   (Intercept) time2     time      V1       V2        V3         V13       \n",
       "4   34.54111    4.886023 -29.25761 3.798234 -6.698916 -5.1146613 -0.4384340\n",
       "5   41.21406    4.780231 -28.60833 4.160007 -1.886795 -0.6239433  0.3072264\n",
       "7   44.70001    5.137619 -30.83944 5.598557  5.287817  3.4201778  0.7478512\n",
       "8   43.42821    5.743171 -34.57631 5.215773  7.864113 11.2514227 -0.5102950\n",
       "11 -56.49109   -5.178971  30.78234 4.320199 -5.742974 -6.0566980  1.6615713\n",
       "12 -45.56877   -5.161528  30.43438 5.294826 -1.431948 -2.0179606  0.8563530\n",
       "14 -42.48134   -4.455033  27.14678 3.011768  2.786672  6.0636405 -1.2957589\n",
       "15 -56.82164   -4.986914  30.64594 3.546544  8.618219 10.7279041  1.8568018\n",
       "   V22         V68         V301     V303    \n",
       "4   3.82130484 -1.13967710 5.330209 1.305492\n",
       "5  -0.30547772 -0.09986067 4.623576 1.053775\n",
       "7  -0.27333752 -0.56816910 4.979449 1.241307\n",
       "8   1.10789397 -2.45805127 4.953191 3.249709\n",
       "11  0.68626971 -1.02060754 5.331632 1.439171\n",
       "12  1.25748365  0.52724894 4.543242 1.191853\n",
       "14  1.31529746  1.41752731 4.830919 2.199437\n",
       "15 -0.04282177 -0.44470274 5.503159 2.866828"
      ]
     },
     "metadata": {},
     "output_type": "display_data"
    }
   ],
   "source": [
    "coef(mytree)"
   ]
  },
  {
   "cell_type": "markdown",
   "metadata": {},
   "source": [
    "# Model tree: step by step version"
   ]
  },
  {
   "cell_type": "code",
   "execution_count": 21,
   "metadata": {
    "scrolled": true
   },
   "outputs": [
    {
     "data": {
      "text/plain": [
       "   user  system elapsed \n",
       "   5.25    0.04    5.56 "
      ]
     },
     "metadata": {},
     "output_type": "display_data"
    },
    {
     "data": {
      "text/html": [
       "94.5611558905015"
      ],
      "text/latex": [
       "94.5611558905015"
      ],
      "text/markdown": [
       "94.5611558905015"
      ],
      "text/plain": [
       "[1] 94.56116"
      ]
     },
     "metadata": {},
     "output_type": "display_data"
    },
    {
     "data": {
      "text/html": [
       "<ol class=list-inline>\n",
       "\t<li>'V1'</li>\n",
       "\t<li>'V2'</li>\n",
       "\t<li>'V3'</li>\n",
       "</ol>\n"
      ],
      "text/latex": [
       "\\begin{enumerate*}\n",
       "\\item 'V1'\n",
       "\\item 'V2'\n",
       "\\item 'V3'\n",
       "\\end{enumerate*}\n"
      ],
      "text/markdown": [
       "1. 'V1'\n",
       "2. 'V2'\n",
       "3. 'V3'\n",
       "\n",
       "\n"
      ],
      "text/plain": [
       "[1] \"V1\" \"V2\" \"V3\""
      ]
     },
     "metadata": {},
     "output_type": "display_data"
    }
   ],
   "source": [
    "# split_var = c(\"treatment\",paste(\"V\",301:400,sep=\"\"))\n",
    "# split_var = c(\"treatment\")\n",
    "# split_var = c(\"treatment\",paste(\"V\",c(1,2,3,301,302,303),sep=\"\"))\n",
    "# split_var = c(\"treatment\",paste(\"V\",c(1,2,3,301,302,303),sep=\"\")) # correct\n",
    "\n",
    "# regress_var = c(\"time2\",\"time\")\n",
    "# regress_var = c(\"V1\")\n",
    "regress_var = c(\"time\",\"time2\")\n",
    "# regress_var = c(\"time2\",\"time\",paste(\"V\",c(1,2,3),sep=\"\"))\n",
    "\n",
    "cluster_var = \"patient\"\n",
    "Formula = as.formula(paste(\"y~\",paste(regress_var,collapse = \"+\"),\n",
    "                           \"|\",cluster_var,\"|\",\n",
    "                         paste(split_var,collapse = \"+\")))\n",
    "# Formula\n",
    "\n",
    "system.time({\n",
    "    # you can change alpha = 0.2\n",
    "    lmm_tree <- lmertree(Formula, data = data,alpha = 0.2,maxdepth=4) \n",
    "})\n",
    "# mean square error on test data\n",
    "mean((predict(lmm_tree,newdata=data_test,re.form=NA)-data_test$y)**2)\n",
    "\n",
    "# the selected features\n",
    "get_split_names(lmm_tree$tree,data)\n",
    "\n",
    "# coef(lmm_tree)\n",
    "# plot(lmm_tree,which=\"tree\",main = \"glmertree\")"
   ]
  },
  {
   "cell_type": "code",
   "execution_count": 43,
   "metadata": {},
   "outputs": [
    {
     "data": {
      "text/html": [
       "<table>\n",
       "<thead><tr><th></th><th scope=col>(Intercept)</th><th scope=col>time</th><th scope=col>time2</th></tr></thead>\n",
       "<tbody>\n",
       "\t<tr><th scope=row>5</th><td> 40.99118 </td><td>-31.895063</td><td> 5.182074 </td></tr>\n",
       "\t<tr><th scope=row>6</th><td> 44.33446 </td><td>-29.283495</td><td> 4.927686 </td></tr>\n",
       "\t<tr><th scope=row>8</th><td> 48.76405 </td><td>-29.716642</td><td> 4.888221 </td></tr>\n",
       "\t<tr><th scope=row>9</th><td> 57.95539 </td><td>-31.696468</td><td> 5.331493 </td></tr>\n",
       "\t<tr><th scope=row>12</th><td> 54.18950 </td><td>-28.757700</td><td> 4.930032 </td></tr>\n",
       "\t<tr><th scope=row>13</th><td> 59.97979 </td><td>-21.679963</td><td> 3.417342 </td></tr>\n",
       "\t<tr><th scope=row>14</th><td> 91.13816 </td><td>-36.518382</td><td> 5.665010 </td></tr>\n",
       "\t<tr><th scope=row>18</th><td>-56.45577 </td><td> 33.079386</td><td>-5.436157 </td></tr>\n",
       "\t<tr><th scope=row>19</th><td>-40.96788 </td><td> 28.767228</td><td>-4.876719 </td></tr>\n",
       "\t<tr><th scope=row>21</th><td>-44.44926 </td><td> 30.595360</td><td>-5.067669 </td></tr>\n",
       "\t<tr><th scope=row>22</th><td>-34.45647 </td><td> 28.580096</td><td>-4.558234 </td></tr>\n",
       "\t<tr><th scope=row>25</th><td>-36.56726 </td><td> 30.741254</td><td>-5.012922 </td></tr>\n",
       "\t<tr><th scope=row>26</th><td>-15.81132 </td><td> 20.191575</td><td>-3.151055 </td></tr>\n",
       "\t<tr><th scope=row>27</th><td> 20.88275 </td><td>  7.658733</td><td>-1.688807 </td></tr>\n",
       "</tbody>\n",
       "</table>\n"
      ],
      "text/latex": [
       "\\begin{tabular}{r|lll}\n",
       "  & (Intercept) & time & time2\\\\\n",
       "\\hline\n",
       "\t5 &  40.99118  & -31.895063 &  5.182074 \\\\\n",
       "\t6 &  44.33446  & -29.283495 &  4.927686 \\\\\n",
       "\t8 &  48.76405  & -29.716642 &  4.888221 \\\\\n",
       "\t9 &  57.95539  & -31.696468 &  5.331493 \\\\\n",
       "\t12 &  54.18950  & -28.757700 &  4.930032 \\\\\n",
       "\t13 &  59.97979  & -21.679963 &  3.417342 \\\\\n",
       "\t14 &  91.13816  & -36.518382 &  5.665010 \\\\\n",
       "\t18 & -56.45577  &  33.079386 & -5.436157 \\\\\n",
       "\t19 & -40.96788  &  28.767228 & -4.876719 \\\\\n",
       "\t21 & -44.44926  &  30.595360 & -5.067669 \\\\\n",
       "\t22 & -34.45647  &  28.580096 & -4.558234 \\\\\n",
       "\t25 & -36.56726  &  30.741254 & -5.012922 \\\\\n",
       "\t26 & -15.81132  &  20.191575 & -3.151055 \\\\\n",
       "\t27 &  20.88275  &   7.658733 & -1.688807 \\\\\n",
       "\\end{tabular}\n"
      ],
      "text/markdown": [
       "\n",
       "| <!--/--> | (Intercept) | time | time2 |\n",
       "|---|---|---|---|\n",
       "| 5 |  40.99118  | -31.895063 |  5.182074  |\n",
       "| 6 |  44.33446  | -29.283495 |  4.927686  |\n",
       "| 8 |  48.76405  | -29.716642 |  4.888221  |\n",
       "| 9 |  57.95539  | -31.696468 |  5.331493  |\n",
       "| 12 |  54.18950  | -28.757700 |  4.930032  |\n",
       "| 13 |  59.97979  | -21.679963 |  3.417342  |\n",
       "| 14 |  91.13816  | -36.518382 |  5.665010  |\n",
       "| 18 | -56.45577  |  33.079386 | -5.436157  |\n",
       "| 19 | -40.96788  |  28.767228 | -4.876719  |\n",
       "| 21 | -44.44926  |  30.595360 | -5.067669  |\n",
       "| 22 | -34.45647  |  28.580096 | -4.558234  |\n",
       "| 25 | -36.56726  |  30.741254 | -5.012922  |\n",
       "| 26 | -15.81132  |  20.191575 | -3.151055  |\n",
       "| 27 |  20.88275  |   7.658733 | -1.688807  |\n",
       "\n"
      ],
      "text/plain": [
       "   (Intercept) time       time2    \n",
       "5   40.99118   -31.895063  5.182074\n",
       "6   44.33446   -29.283495  4.927686\n",
       "8   48.76405   -29.716642  4.888221\n",
       "9   57.95539   -31.696468  5.331493\n",
       "12  54.18950   -28.757700  4.930032\n",
       "13  59.97979   -21.679963  3.417342\n",
       "14  91.13816   -36.518382  5.665010\n",
       "18 -56.45577    33.079386 -5.436157\n",
       "19 -40.96788    28.767228 -4.876719\n",
       "21 -44.44926    30.595360 -5.067669\n",
       "22 -34.45647    28.580096 -4.558234\n",
       "25 -36.56726    30.741254 -5.012922\n",
       "26 -15.81132    20.191575 -3.151055\n",
       "27  20.88275     7.658733 -1.688807"
      ]
     },
     "metadata": {},
     "output_type": "display_data"
    }
   ],
   "source": [
    "coef(lmm_tree)"
   ]
  },
  {
   "cell_type": "code",
   "execution_count": 16,
   "metadata": {},
   "outputs": [],
   "source": [
    "# random effect (here is just intercept)\n",
    "# ranef(lmm_tree)"
   ]
  },
  {
   "cell_type": "markdown",
   "metadata": {},
   "source": [
    "# Benchmark"
   ]
  },
  {
   "cell_type": "markdown",
   "metadata": {},
   "source": [
    "## Fuzzy Forest"
   ]
  },
  {
   "cell_type": "code",
   "execution_count": 17,
   "metadata": {},
   "outputs": [
    {
     "data": {
      "text/plain": [
       "   user  system elapsed \n",
       " 626.13    2.11  635.48 "
      ]
     },
     "metadata": {},
     "output_type": "display_data"
    },
    {
     "data": {
      "text/html": [
       "50.0162342240422"
      ],
      "text/latex": [
       "50.0162342240422"
      ],
      "text/markdown": [
       "50.0162342240422"
      ],
      "text/plain": [
       "[1] 50.01623"
      ]
     },
     "metadata": {},
     "output_type": "display_data"
    },
    {
     "data": {
      "image/png": "[encoded data removed]",
      "text/plain": [
       "Plot with title \"FF Variable Importance\""
      ]
     },
     "metadata": {},
     "output_type": "display_data"
    }
   ],
   "source": [
    "# since treatment is categorical, we cannot include it in WGCNA\n",
    "system.time({\n",
    "data_WGCNA = data[,1:400] # only the covariates\n",
    "# choose power = 6, which is not quite correct\n",
    "# Please set numericLabels = FALSE so that the label is one color (string)\n",
    "# if verbose = 3, show some details\n",
    "net = blockwiseModules(data_WGCNA, power = 6,TOMType = \"unsigned\", \n",
    "                       minModuleSize = 30,reassignThreshold = 0, \n",
    "                       mergeCutHeight = 0.25,numericLabels = FALSE, \n",
    "                       pamRespectsDendro = FALSE,verbose = 0)\n",
    "\n",
    "var = c(paste(\"V\",1:400,sep=\"\"),\"time\",\"time2\",\"treatment\")\n",
    "Formula = as.formula(paste(\"y~\",paste(var,collapse = \"+\")))\n",
    "    \n",
    "net$colors[[\"time\"]] = \"grey\"\n",
    "net$colors[[\"time2\"]] = \"grey\"\n",
    "net$colors[[\"treatment\"]] = \"grey\"\n",
    "    \n",
    "# var = paste(\"V\",1:400,sep=\"\")\n",
    "# Formula = as.formula(paste(\"y~\",paste(var,collapse = \"+\")))\n",
    "    \n",
    "\n",
    "\n",
    "ff_fit = ff(Formula,data = data,module_membership=net$colors,\n",
    "        screen_params = screen_control(min_ntree = 500),\n",
    "        select_params = select_control(min_ntree = 500,number_selected = 15), \n",
    "        final_ntree = 5000, num_processors = 1)        \n",
    "})\n",
    "mean((predict(ff_fit,new_data=data_test)-data_test$y)**2)\n",
    "varImpPlot(ff_fit$final_rf,type=2,main=\"FF Variable Importance\")"
   ]
  },
  {
   "cell_type": "markdown",
   "metadata": {},
   "source": [
    "## Random Forest"
   ]
  },
  {
   "cell_type": "code",
   "execution_count": 23,
   "metadata": {},
   "outputs": [
    {
     "data": {
      "text/plain": [
       "   user  system elapsed \n",
       "  84.43    0.41   86.08 "
      ]
     },
     "metadata": {},
     "output_type": "display_data"
    },
    {
     "data": {
      "text/html": [
       "76.7205025988452"
      ],
      "text/latex": [
       "76.7205025988452"
      ],
      "text/markdown": [
       "76.7205025988452"
      ],
      "text/plain": [
       "[1] 76.7205"
      ]
     },
     "metadata": {},
     "output_type": "display_data"
    },
    {
     "data": {
      "image/png": "[encoded data removed]",
      "text/plain": [
       "Plot with title \"RF Variable Importance\""
      ]
     },
     "metadata": {},
     "output_type": "display_data"
    }
   ],
   "source": [
    "# Random Forest\n",
    "var = c(paste(\"V\",1:400,sep=\"\"),\"time\",\"time2\",\"treatment\")\n",
    "Formula = as.formula(paste(\"y~\",paste(var,collapse = \"+\")))\n",
    "system.time({\n",
    "#     set.seed(20)\n",
    "    rf <- randomForest(Formula,data)\n",
    "})\n",
    "mean((predict(rf,newdata=data_test)-data_test$y)**2)\n",
    "varImpPlot(rf,type=2,main=\"RF Variable Importance\")"
   ]
  },
  {
   "cell_type": "markdown",
   "metadata": {},
   "source": [
    "## RE-EM tree"
   ]
  },
  {
   "cell_type": "code",
   "execution_count": 19,
   "metadata": {},
   "outputs": [
    {
     "data": {
      "text/plain": [
       "   user  system elapsed \n",
       "   5.56    0.11    5.79 "
      ]
     },
     "metadata": {},
     "output_type": "display_data"
    },
    {
     "data": {
      "text/html": [
       "<dl class=dl-horizontal>\n",
       "\t<dt>treatment</dt>\n",
       "\t\t<dd>146623.110493305</dd>\n",
       "\t<dt>time</dt>\n",
       "\t\t<dd>84411.4696734322</dd>\n",
       "\t<dt>time2</dt>\n",
       "\t\t<dd>84411.4696734322</dd>\n",
       "\t<dt>V3</dt>\n",
       "\t\t<dd>55594.9483810676</dd>\n",
       "\t<dt>V2</dt>\n",
       "\t\t<dd>37365.49157927</dd>\n",
       "\t<dt>V73</dt>\n",
       "\t\t<dd>30098.7669105061</dd>\n",
       "\t<dt>V301</dt>\n",
       "\t\t<dd>22372.3090998103</dd>\n",
       "\t<dt>V70</dt>\n",
       "\t\t<dd>22203.3336099465</dd>\n",
       "\t<dt>V15</dt>\n",
       "\t\t<dd>21932.5166532859</dd>\n",
       "\t<dt>V82</dt>\n",
       "\t\t<dd>21215.481454766</dd>\n",
       "\t<dt>V62</dt>\n",
       "\t\t<dd>17794.2364932005</dd>\n",
       "\t<dt>V5</dt>\n",
       "\t\t<dd>17584.892534457</dd>\n",
       "\t<dt>V99</dt>\n",
       "\t\t<dd>16135.098636503</dd>\n",
       "\t<dt>V24</dt>\n",
       "\t\t<dd>15568.9548246958</dd>\n",
       "\t<dt>V25</dt>\n",
       "\t\t<dd>15568.9548246958</dd>\n",
       "</dl>\n"
      ],
      "text/latex": [
       "\\begin{description*}\n",
       "\\item[treatment] 146623.110493305\n",
       "\\item[time] 84411.4696734322\n",
       "\\item[time2] 84411.4696734322\n",
       "\\item[V3] 55594.9483810676\n",
       "\\item[V2] 37365.49157927\n",
       "\\item[V73] 30098.7669105061\n",
       "\\item[V301] 22372.3090998103\n",
       "\\item[V70] 22203.3336099465\n",
       "\\item[V15] 21932.5166532859\n",
       "\\item[V82] 21215.481454766\n",
       "\\item[V62] 17794.2364932005\n",
       "\\item[V5] 17584.892534457\n",
       "\\item[V99] 16135.098636503\n",
       "\\item[V24] 15568.9548246958\n",
       "\\item[V25] 15568.9548246958\n",
       "\\end{description*}\n"
      ],
      "text/markdown": [
       "treatment\n",
       ":   146623.110493305time\n",
       ":   84411.4696734322time2\n",
       ":   84411.4696734322V3\n",
       ":   55594.9483810676V2\n",
       ":   37365.49157927V73\n",
       ":   30098.7669105061V301\n",
       ":   22372.3090998103V70\n",
       ":   22203.3336099465V15\n",
       ":   21932.5166532859V82\n",
       ":   21215.481454766V62\n",
       ":   17794.2364932005V5\n",
       ":   17584.892534457V99\n",
       ":   16135.098636503V24\n",
       ":   15568.9548246958V25\n",
       ":   15568.9548246958\n",
       "\n"
      ],
      "text/plain": [
       "treatment      time     time2        V3        V2       V73      V301       V70 \n",
       "146623.11  84411.47  84411.47  55594.95  37365.49  30098.77  22372.31  22203.33 \n",
       "      V15       V82       V62        V5       V99       V24       V25 \n",
       " 21932.52  21215.48  17794.24  17584.89  16135.10  15568.95  15568.95 "
      ]
     },
     "metadata": {},
     "output_type": "display_data"
    },
    {
     "data": {
      "text/html": [
       "108.827252742983"
      ],
      "text/latex": [
       "108.827252742983"
      ],
      "text/markdown": [
       "108.827252742983"
      ],
      "text/plain": [
       "[1] 108.8273"
      ]
     },
     "metadata": {},
     "output_type": "display_data"
    },
    {
     "data": {
      "image/png": "[encoded data removed]",
      "text/plain": [
       "plot without title"
      ]
     },
     "metadata": {},
     "output_type": "display_data"
    }
   ],
   "source": [
    "variables = c(paste(\"V\",1:400,sep=\"\"),\"treatment\",\"time\",\"time2\")\n",
    "Formular = as.formula(paste(\"y~\",paste(variables,collapse = \"+\")))\n",
    "system.time({REEMresult<-REEMtree(Formular, data=data, random=~1|patient)})\n",
    "sort(REEMresult$Tree$variable.importance, decreasing = TRUE)[1:15]\n",
    "mean((predict(REEMresult,newdata=data_test,EstimateRandomEffects=FALSE)-\n",
    "      data_test$y)**2)\n",
    "plot(REEMresult)"
   ]
  }
 ],
 "metadata": {
  "kernelspec": {
   "display_name": "R",
   "language": "R",
   "name": "ir"
  },
  "language_info": {
   "codemirror_mode": "r",
   "file_extension": ".r",
   "mimetype": "text/x-r-source",
   "name": "R",
   "pygments_lexer": "r",
   "version": "3.6.0"
  }
 },
 "nbformat": 4,
 "nbformat_minor": 2
}
