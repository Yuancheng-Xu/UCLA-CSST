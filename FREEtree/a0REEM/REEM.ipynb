{
 "cells": [
  {
   "cell_type": "code",
   "execution_count": 2,
   "metadata": {},
   "outputs": [
    {
     "name": "stderr",
     "output_type": "stream",
     "text": [
      "Warning message:\n",
      "\"package 'REEMtree' was built under R version 3.6.1\"Loading required package: nlme\n",
      "Loading required package: rpart\n"
     ]
    }
   ],
   "source": [
    "source(\"../Data Generator.r\")\n",
    "library(REEMtree)"
   ]
  },
  {
   "cell_type": "code",
   "execution_count": 13,
   "metadata": {},
   "outputs": [],
   "source": [
    "var_re = 3\n",
    "### training, validation and test set ###\n",
    "set.seed(100)\n",
    "n = 400\n",
    "p = 400\n",
    "imp_mod = c(1,4)\n",
    "var_noise = 1\n",
    "data = sim_time(n=n,p=p,imp_mod=imp_mod,var_noise=var_noise,a1=0,a2=0,var_re=var_re)\n",
    "\n",
    "# test set (used for testing performance using optimal parameters)\n",
    "set.seed(101)\n",
    "n_test = 100\n",
    "data_test = sim_time(n=n_test,p=p,imp_mod=imp_mod,var_noise=var_noise,a1=0,a2=0,var_re=var_re)\n",
    "\n",
    "# validation set (used for tuning parameters)\n",
    "set.seed(102)\n",
    "n_valid = 100\n",
    "data_valid = sim_time(n=n_valid,p=p,imp_mod=imp_mod,var_noise=var_noise,a1=0,a2=0,var_re=var_re)\n",
    "###"
   ]
  },
  {
   "cell_type": "code",
   "execution_count": 14,
   "metadata": {},
   "outputs": [
    {
     "data": {
      "text/plain": [
       "   user  system elapsed \n",
       "   5.31    0.00    5.43 "
      ]
     },
     "metadata": {},
     "output_type": "display_data"
    },
    {
     "data": {
      "text/html": [
       "53.5332579301616"
      ],
      "text/latex": [
       "53.5332579301616"
      ],
      "text/markdown": [
       "53.5332579301616"
      ],
      "text/plain": [
       "[1] 53.53326"
      ]
     },
     "metadata": {},
     "output_type": "display_data"
    }
   ],
   "source": [
    "# we use all the features here\n",
    "var = paste(\"V\",1:400,sep=\"\")\n",
    "# var = paste(\"V\",c(1,2,3,301,302,303),sep=\"\")\n",
    "# formula\n",
    "Formular = as.formula(paste(\"y~\",paste(var,collapse = \"+\")))\n",
    "# Formular\n",
    "system.time({mytree<-REEMtree(Formular, data=data, random=~1|patient)})\n",
    "preds = predict(mytree,newdata = data_valid,EstimateRandomEffects = FALSE)\n",
    "mean((preds-data_valid$y)**2)\n",
    "# plot(REEMresult)"
   ]
  },
  {
   "cell_type": "code",
   "execution_count": 15,
   "metadata": {},
   "outputs": [
    {
     "data": {
      "text/html": [
       "74.8536962201505"
      ],
      "text/latex": [
       "74.8536962201505"
      ],
      "text/markdown": [
       "74.8536962201505"
      ],
      "text/plain": [
       "[1] 74.8537"
      ]
     },
     "metadata": {},
     "output_type": "display_data"
    }
   ],
   "source": [
    "preds = predict(mytree,newdata = data_test,EstimateRandomEffects = FALSE)\n",
    "mean((preds-data_test$y)**2)"
   ]
  }
 ],
 "metadata": {
  "kernelspec": {
   "display_name": "R",
   "language": "R",
   "name": "ir"
  },
  "language_info": {
   "codemirror_mode": "r",
   "file_extension": ".r",
   "mimetype": "text/x-r-source",
   "name": "R",
   "pygments_lexer": "r",
   "version": "3.6.0"
  }
 },
 "nbformat": 4,
 "nbformat_minor": 2
}
