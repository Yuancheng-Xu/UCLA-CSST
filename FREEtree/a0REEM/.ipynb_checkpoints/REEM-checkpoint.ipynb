{
 "cells": [
  {
   "cell_type": "code",
   "execution_count": 6,
   "metadata": {},
   "outputs": [],
   "source": [
    "source(\"../Data Generator.r\")\n",
    "library(REEMtree)"
   ]
  },
  {
   "cell_type": "code",
   "execution_count": 16,
   "metadata": {},
   "outputs": [],
   "source": [
    "var_re = 3\n",
    "### training, validation and test set ###\n",
    "set.seed(100)\n",
    "n = 200\n",
    "p = 400\n",
    "imp_mod = c(1,4)\n",
    "var_noise = 1\n",
    "data = sim_time(n=n,p=p,imp_mod=imp_mod,var_noise=var_noise,a1=0,a2=0,var_re=var_re)\n",
    "\n",
    "# test set (used for testing performance using optimal parameters)\n",
    "set.seed(101)\n",
    "n_test = 100\n",
    "data_test = sim_time(n=n_test,p=p,imp_mod=imp_mod,var_noise=var_noise,a1=0,a2=0,var_re=var_re)\n",
    "\n",
    "# validation set (used for tuning parameters)\n",
    "set.seed(102)\n",
    "n_valid = 100\n",
    "data_valid = sim_time(n=n_valid,p=p,imp_mod=imp_mod,var_noise=var_noise,a1=0,a2=0,var_re=var_re)\n",
    "###"
   ]
  },
  {
   "cell_type": "code",
   "execution_count": 19,
   "metadata": {},
   "outputs": [
    {
     "data": {
      "text/plain": [
       "   user  system elapsed \n",
       "   0.32    0.00    0.32 "
      ]
     },
     "metadata": {},
     "output_type": "display_data"
    },
    {
     "data": {
      "text/html": [
       "53.1055638337225"
      ],
      "text/latex": [
       "53.1055638337225"
      ],
      "text/markdown": [
       "53.1055638337225"
      ],
      "text/plain": [
       "[1] 53.10556"
      ]
     },
     "metadata": {},
     "output_type": "display_data"
    },
    {
     "data": {
      "image/png": "[encoded data removed]",
      "text/plain": [
       "plot without title"
      ]
     },
     "metadata": {},
     "output_type": "display_data"
    }
   ],
   "source": [
    "# we use all the features here\n",
    "# var = paste(\"V\",1:400,sep=\"\")\n",
    "var = paste(\"V\",c(1,2,3,301,302,303),sep=\"\")\n",
    "# formula\n",
    "Formular = as.formula(paste(\"y~\",paste(var,collapse = \"+\")))\n",
    "# Formular\n",
    "system.time({mytree<-REEMtree(Formular, data=data, random=~1|patient)})\n",
    "preds = predict(mytree,newdata = data_valid,EstimateRandomEffects = FALSE)\n",
    "mean((preds-data_valid$y)**2)\n",
    "plot(REEMresult)"
   ]
  },
  {
   "cell_type": "code",
   "execution_count": 15,
   "metadata": {},
   "outputs": [
    {
     "data": {
      "text/html": [
       "58.2580439962478"
      ],
      "text/latex": [
       "58.2580439962478"
      ],
      "text/markdown": [
       "58.2580439962478"
      ],
      "text/plain": [
       "[1] 58.25804"
      ]
     },
     "metadata": {},
     "output_type": "display_data"
    }
   ],
   "source": [
    "preds = predict(mytree,newdata = data_test,EstimateRandomEffects = FALSE)\n",
    "mean((preds-data_test$y)**2)"
   ]
  }
 ],
 "metadata": {
  "kernelspec": {
   "display_name": "R",
   "language": "R",
   "name": "ir"
  },
  "language_info": {
   "codemirror_mode": "r",
   "file_extension": ".r",
   "mimetype": "text/x-r-source",
   "name": "R",
   "pygments_lexer": "r",
   "version": "3.6.0"
  }
 },
 "nbformat": 4,
 "nbformat_minor": 2
}
