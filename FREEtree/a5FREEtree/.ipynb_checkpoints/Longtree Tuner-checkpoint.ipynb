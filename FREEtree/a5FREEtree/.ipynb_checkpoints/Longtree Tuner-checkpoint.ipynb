{
 "cells": [
  {
   "cell_type": "code",
   "execution_count": 1,
   "metadata": {},
   "outputs": [
    {
     "name": "stderr",
     "output_type": "stream",
     "text": [
      "Warning message:\n",
      "\"package 'glmertree' was built under R version 3.6.1\"Loading required package: lme4\n",
      "Warning message:\n",
      "\"package 'lme4' was built under R version 3.6.1\"Loading required package: Matrix\n",
      "Loading required package: partykit\n",
      "Warning message:\n",
      "\"package 'partykit' was built under R version 3.6.1\"Loading required package: grid\n",
      "Loading required package: libcoin\n",
      "Warning message:\n",
      "\"package 'libcoin' was built under R version 3.6.1\"Loading required package: mvtnorm\n",
      "Warning message:\n",
      "\"package 'WGCNA' was built under R version 3.6.1\"Loading required package: dynamicTreeCut\n",
      "Loading required package: fastcluster\n",
      "\n",
      "Attaching package: 'fastcluster'\n",
      "\n",
      "The following object is masked from 'package:stats':\n",
      "\n",
      "    hclust\n",
      "\n",
      "\n",
      "Registered S3 methods overwritten by 'ggplot2':\n",
      "  method         from \n",
      "  [.quosures     rlang\n",
      "  c.quosures     rlang\n",
      "  print.quosures rlang\n",
      "\n",
      "Attaching package: 'WGCNA'\n",
      "\n",
      "The following object is masked from 'package:stats':\n",
      "\n",
      "    cor\n",
      "\n",
      "Warning message:\n",
      "\"package 'pre' was built under R version 3.6.1\""
     ]
    }
   ],
   "source": [
    "source(\"../Data Generator.r\")\n",
    "source(\"../Longtree.r\")"
   ]
  },
  {
   "cell_type": "markdown",
   "metadata": {},
   "source": [
    "Note: the following is where a1=5,a2=-5"
   ]
  },
  {
   "cell_type": "markdown",
   "metadata": {},
   "source": [
    "# Tuning Longtree"
   ]
  },
  {
   "cell_type": "code",
   "execution_count": 3,
   "metadata": {},
   "outputs": [],
   "source": [
    "### training, validation and test set ###\n",
    "set.seed(100)\n",
    "n = 500\n",
    "p = 400\n",
    "imp_mod = c(1,4)\n",
    "var_noise = 1\n",
    "data = sim_time(n=n,p=p,imp_mod=imp_mod, var_noise=var_noise)\n",
    "data$time2 = (data$time)^2\n",
    "\n",
    "# test set (used for testing performance using optimal parameters)\n",
    "set.seed(101)\n",
    "n_test = 100\n",
    "data_test = sim_time(n=n_test,p=p,imp_mod=imp_mod, var_noise=var_noise)\n",
    "data_test$time2 = (data_test$time)^2\n",
    "\n",
    "# validation set (used for tuning parameters)\n",
    "set.seed(102)\n",
    "n_valid = 100\n",
    "data_valid = sim_time(n=n_valid,p=p,imp_mod=imp_mod, var_noise=var_noise)\n",
    "data_valid$time2 = (data_valid$time)^2\n",
    "###"
   ]
  },
  {
   "cell_type": "code",
   "execution_count": 4,
   "metadata": {},
   "outputs": [],
   "source": [
    "fixed_regress = c(\"time\",\"time2\")\n",
    "fixed_split = c(\"treatment\")\n",
    "cluster = \"patient\"\n",
    "var_select = paste(\"V\",1:p,sep=\"\")"
   ]
  },
  {
   "cell_type": "code",
   "execution_count": 5,
   "metadata": {},
   "outputs": [],
   "source": [
    "# This is default parameters\n",
    "# alpha_screen = 0.2; alpha_select = 0.2; alpha_predict = 0.05\n",
    "# maxdepth_factor_select = 0.5; maxdepth_factor_screen = 0.04\n",
    "# minsize_multiplier = 5\n",
    "# Fuzzy=TRUE"
   ]
  },
  {
   "cell_type": "code",
   "execution_count": 6,
   "metadata": {},
   "outputs": [
    {
     "name": "stdout",
     "output_type": "stream",
     "text": [
      "Use Longtree_time\n"
     ]
    },
    {
     "name": "stderr",
     "output_type": "stream",
     "text": [
      "boundary (singular) fit: see ?isSingular\n",
      "boundary (singular) fit: see ?isSingular\n",
      "boundary (singular) fit: see ?isSingular\n",
      "boundary (singular) fit: see ?isSingular\n",
      "boundary (singular) fit: see ?isSingular\n",
      "boundary (singular) fit: see ?isSingular\n"
     ]
    },
    {
     "name": "stdout",
     "output_type": "stream",
     "text": [
      "after screening within modules V1 V2 V3 V61 V301 V302 V303 \n"
     ]
    },
    {
     "name": "stderr",
     "output_type": "stream",
     "text": [
      "boundary (singular) fit: see ?isSingular\n",
      "boundary (singular) fit: see ?isSingular\n"
     ]
    },
    {
     "name": "stdout",
     "output_type": "stream",
     "text": [
      "final features V1 V2 V3 V301"
     ]
    },
    {
     "data": {
      "text/plain": [
       "   user  system elapsed \n",
       "  25.99    0.64   26.27 "
      ]
     },
     "metadata": {},
     "output_type": "display_data"
    },
    {
     "data": {
      "text/html": [
       "33.097295156304"
      ],
      "text/latex": [
       "33.097295156304"
      ],
      "text/markdown": [
       "33.097295156304"
      ],
      "text/plain": [
       "[1] 33.0973"
      ]
     },
     "metadata": {},
     "output_type": "display_data"
    },
    {
     "data": {
      "text/html": [
       "38.6825392190993"
      ],
      "text/latex": [
       "38.6825392190993"
      ],
      "text/markdown": [
       "38.6825392190993"
      ],
      "text/plain": [
       "[1] 38.68254"
      ]
     },
     "metadata": {},
     "output_type": "display_data"
    }
   ],
   "source": [
    "# Tuning parameters on the validation set: alpha,maxdepth,Fuzzy\n",
    "alpha_screen = 0.2; alpha_select = 0.2; alpha_predict = 0.05\n",
    "maxdepth_factor_select = 0.5; maxdepth_factor_screen = 0.04\n",
    "minsize_multiplier = 5\n",
    "Fuzzy=TRUE\n",
    "\n",
    "time = system.time({\n",
    "    mytree = Longtree(data,fixed_regress=fixed_regress,fixed_split=fixed_split,\n",
    "                      var_select=var_select,cluster=cluster,Fuzzy=Fuzzy,\n",
    "                      maxdepth_factor_select =  maxdepth_factor_select,\n",
    "                      maxdepth_factor_screen = maxdepth_factor_screen,\n",
    "                      minsize_multiplier = minsize_multiplier, \n",
    "                      alpha_screen = alpha_screen,\n",
    "                      alpha_select=alpha_select,alpha_predict=alpha_predict)\n",
    "})\n",
    "time # running time\n",
    "mean((predict(mytree,newdata=data_valid,re.form=NA)-data_valid$y)**2)\n",
    "# coef(mytree)\n",
    "# performance of test set\n",
    "mse = mean((predict(mytree,newdata=data_test,re.form=NA)-data_test$y)**2)\n",
    "mse\n",
    "# plot(mytree)"
   ]
  },
  {
   "cell_type": "markdown",
   "metadata": {},
   "source": [
    "# Dan result"
   ]
  },
  {
   "cell_type": "code",
   "execution_count": 13,
   "metadata": {},
   "outputs": [
    {
     "data": {
      "text/html": [
       "47.2840474725991"
      ],
      "text/latex": [
       "47.2840474725991"
      ],
      "text/markdown": [
       "47.2840474725991"
      ],
      "text/plain": [
       "[1] 47.28405"
      ]
     },
     "metadata": {},
     "output_type": "display_data"
    }
   ],
   "source": [
    "mytree = readRDS(\"Longtree_n200.rds\")\n",
    "mean((predict(mytree$tree,newdata=data_test,re.form=NA)-data_test$y)**2)"
   ]
  },
  {
   "cell_type": "code",
   "execution_count": 14,
   "metadata": {},
   "outputs": [
    {
     "data": {
      "text/html": [
       "<ol class=list-inline>\n",
       "\t<li>'V1'</li>\n",
       "\t<li>'V2'</li>\n",
       "\t<li>'V41'</li>\n",
       "\t<li>'V42'</li>\n",
       "\t<li>'V53'</li>\n",
       "\t<li>'V103'</li>\n",
       "\t<li>'V301'</li>\n",
       "\t<li>'V302'</li>\n",
       "</ol>\n"
      ],
      "text/latex": [
       "\\begin{enumerate*}\n",
       "\\item 'V1'\n",
       "\\item 'V2'\n",
       "\\item 'V41'\n",
       "\\item 'V42'\n",
       "\\item 'V53'\n",
       "\\item 'V103'\n",
       "\\item 'V301'\n",
       "\\item 'V302'\n",
       "\\end{enumerate*}\n"
      ],
      "text/markdown": [
       "1. 'V1'\n",
       "2. 'V2'\n",
       "3. 'V41'\n",
       "4. 'V42'\n",
       "5. 'V53'\n",
       "6. 'V103'\n",
       "7. 'V301'\n",
       "8. 'V302'\n",
       "\n",
       "\n"
      ],
      "text/plain": [
       "[1] \"V1\"   \"V2\"   \"V41\"  \"V42\"  \"V53\"  \"V103\" \"V301\" \"V302\""
      ]
     },
     "metadata": {},
     "output_type": "display_data"
    }
   ],
   "source": [
    "mytree$final_selection"
   ]
  },
  {
   "cell_type": "code",
   "execution_count": 15,
   "metadata": {},
   "outputs": [
    {
     "data": {
      "text/plain": [
       "$tree\n",
       "Linear mixed model tree\n",
       "\n",
       "Model formula:\n",
       "y ~ time + time2 + V1 + V2 + V41 + V42 + V53 + V103 + V301 + \n",
       "    V302 | V1 + V2 + V41 + V42 + V53 + V103 + V301 + V302 + treatment\n",
       "\n",
       "Fitted party:\n",
       "[1] root\n",
       "|   [2] treatment in 1\n",
       "|   |   [3] V2 <= 0.13707\n",
       "|   |   |   [4] V2 <= -1.13879: n = 72\n",
       "|   |   |       (Intercept)        time       time2          V1          V2         V41 \n",
       "|   |   |        35.1180964 -33.6704903   5.6113533   1.2894225  -7.9195173  -2.7408759 \n",
       "|   |   |               V42         V53        V103        V301        V302 \n",
       "|   |   |        -0.1391357   1.4468834  -0.8646791   6.3589563   3.1850142 \n",
       "|   |   |   [5] V2 > -1.13879\n",
       "|   |   |   |   [6] V302 <= 0.58464: n = 153\n",
       "|   |   |   |       (Intercept)        time       time2          V1          V2         V41 \n",
       "|   |   |   |        44.9020126 -30.7608116   5.1988935   4.9318262   0.6048095   0.1798112 \n",
       "|   |   |   |               V42         V53        V103        V301        V302 \n",
       "|   |   |   |        -0.9722730  -0.0709338  -0.9630237   4.9144237   1.8751861 \n",
       "|   |   |   |   [7] V302 > 0.58464: n = 51\n",
       "|   |   |   |       (Intercept)        time       time2          V1          V2         V41 \n",
       "|   |   |   |        45.5126965 -31.2587411   5.1681340   7.7772872   2.8719505  -5.3325209 \n",
       "|   |   |   |               V42         V53        V103        V301        V302 \n",
       "|   |   |   |         1.2349829   0.8655665   3.2523752   4.4739740   4.9580935 \n",
       "|   |   [8] V2 > 0.13707\n",
       "|   |   |   [9] V53 <= 0.57244: n = 92\n",
       "|   |   |       (Intercept)        time       time2          V1          V2         V41 \n",
       "|   |   |        39.4429281 -26.1885867   4.3001319   4.5115429   6.4361124   1.1467248 \n",
       "|   |   |               V42         V53        V103        V301        V302 \n",
       "|   |   |        -0.3056969   1.5108903   0.2733223   4.2632317   0.9887927 \n",
       "|   |   |   [10] V53 > 0.57244: n = 132\n",
       "|   |   |        (Intercept)         time        time2           V1           V2          V41 \n",
       "|   |   |        40.40727441 -32.59814209   5.43073007   5.83389270   9.46622184   0.81921436 \n",
       "|   |   |                V42          V53         V103         V301         V302 \n",
       "|   |   |         3.43341121   2.75607013   0.09008435   5.18730495   1.67722083 \n",
       "|   [11] treatment in 2\n",
       "|   |   [12] V2 <= 0.07213\n",
       "|   |   |   [13] V2 <= -1.12578: n = 69\n",
       "|   |   |       (Intercept)        time       time2          V1          V2         V41 \n",
       "|   |   |       -55.8661771  27.8923622  -4.7455356   4.2894790  -7.8092834  -6.7934858 \n",
       "|   |   |               V42         V53        V103        V301        V302 \n",
       "|   |   |         3.2680191  -1.2333420  -0.6483484   6.2574677   3.1480724 \n",
       "|   |   |   [14] V2 > -1.12578: n = 187\n",
       "|   |   |       (Intercept)        time       time2          V1          V2         V41 \n",
       "|   |   |       -44.5327757  28.9790797  -4.9122675   5.8129806  -2.4263062   0.4352747 \n",
       "|   |   |               V42         V53        V103        V301        V302 \n",
       "|   |   |        -0.5158450   0.2497778  -0.4333211   5.1043392   1.3339691 \n",
       "|   |   [15] V2 > 0.07213: n = 244\n",
       "|   |        (Intercept)         time        time2           V1           V2          V41 \n",
       "|   |       -45.91061997  27.74161498  -4.59652790   7.08377584   7.07983906   0.90918018 \n",
       "|   |                V42          V53         V103         V301         V302 \n",
       "|   |         1.51639941   2.09664213   0.08709872   5.10903959   1.89501301 \n",
       "\n",
       "Number of inner nodes:    7\n",
       "Number of terminal nodes: 8\n",
       "Number of parameters per node: 11\n",
       "Objective function (residual sum of squares): 25582.91\n",
       "\n",
       "Random effects:\n",
       "$patient\n",
       "     (Intercept)\n",
       "1   -0.223513646\n",
       "2    0.480667218\n",
       "3   -1.390175295\n",
       "4    0.054783560\n",
       "5    1.360458468\n",
       "6   -0.533147749\n",
       "7   -0.601423345\n",
       "8   -0.882716597\n",
       "9    0.350725683\n",
       "10  -0.564548878\n",
       "11  -0.931967530\n",
       "12  -0.106395989\n",
       "13   0.779872710\n",
       "14  -0.932176903\n",
       "15   1.296923719\n",
       "16  -0.149960478\n",
       "17  -0.366722269\n",
       "18  -0.249796298\n",
       "19   0.252618925\n",
       "20  -0.750568845\n",
       "21   1.052384102\n",
       "22  -0.658647102\n",
       "23  -0.503401683\n",
       "24   1.441088247\n",
       "25  -0.040152391\n",
       "26  -0.251094454\n",
       "27   0.142039645\n",
       "28   0.229587943\n",
       "29   0.440505501\n",
       "30   0.202970684\n",
       "31   0.779240970\n",
       "32  -0.689439122\n",
       "33   0.153223815\n",
       "34   0.773929011\n",
       "35   0.881080714\n",
       "36  -0.125633231\n",
       "37   0.038280819\n",
       "38   0.516492710\n",
       "39   0.128918976\n",
       "40   0.369901435\n",
       "41  -1.981938117\n",
       "42   0.638440271\n",
       "43  -0.035535335\n",
       "44  -1.050879597\n",
       "45  -0.130223675\n",
       "46  -0.740890433\n",
       "47  -0.555411791\n",
       "48   0.063747924\n",
       "49   0.247884620\n",
       "50  -0.597656606\n",
       "51   0.252788689\n",
       "52  -0.559325728\n",
       "53   0.376851129\n",
       "54   1.055833248\n",
       "55   0.982594469\n",
       "56  -0.719499962\n",
       "57  -0.237913978\n",
       "58   0.024216188\n",
       "59  -0.232610099\n",
       "60   0.523026040\n",
       "61  -0.606348120\n",
       "62   0.099238172\n",
       "63   0.069013538\n",
       "64  -0.437521989\n",
       "65   0.174921197\n",
       "66  -0.119193477\n",
       "67   0.241339705\n",
       "68  -0.278772181\n",
       "69  -0.148841295\n",
       "70   1.816522601\n",
       "71   0.139648191\n",
       "72  -0.932646828\n",
       "73  -0.431136803\n",
       "74   0.270246095\n",
       "75  -0.004650827\n",
       "76  -0.445530637\n",
       "77   0.810306370\n",
       "78   1.103837886\n",
       "79  -0.461884580\n",
       "80   0.621221005\n",
       "81  -0.507285299\n",
       "82   0.656054423\n",
       "83   1.096448137\n",
       "84  -0.605828629\n",
       "85   0.115848370\n",
       "86   0.053443300\n",
       "87   0.819945825\n",
       "88  -1.182350000\n",
       "89   0.158863402\n",
       "90   0.941468341\n",
       "91  -1.152869997\n",
       "92   0.656494157\n",
       "93   0.394798619\n",
       "94  -1.590891195\n",
       "95   0.045065876\n",
       "96   0.390141097\n",
       "97   0.011839832\n",
       "98  -1.484804329\n",
       "99   0.473731501\n",
       "100  0.132408243\n",
       "101 -1.093388609\n",
       "102 -0.602336651\n",
       "103 -0.230657241\n",
       "104 -0.856736846\n",
       "105 -0.234533448\n",
       "106 -0.557484455\n",
       "107 -0.680051470\n",
       "108 -0.142301579\n",
       "109  0.500354955\n",
       "110 -0.013797756\n",
       "111  1.080379727\n",
       "112  0.392997585\n",
       "113 -0.148176369\n",
       "114 -0.266848548\n",
       "115 -0.298407924\n",
       "116 -0.720236455\n",
       "117  0.439250500\n",
       "118 -0.025879345\n",
       "119  0.369905196\n",
       "120 -0.065529741\n",
       "121 -0.108223930\n",
       "122  0.180750765\n",
       "123 -0.479837633\n",
       "124 -0.869480266\n",
       "125  0.749210885\n",
       "126  0.101163794\n",
       "127 -0.276704355\n",
       "128  1.105298248\n",
       "129  1.491393563\n",
       "130  0.156692164\n",
       "131  0.864745505\n",
       "132  0.984188445\n",
       "133  0.662835853\n",
       "134  0.881240044\n",
       "135 -0.414485900\n",
       "136  0.310236892\n",
       "137 -0.492184468\n",
       "138  0.733192829\n",
       "139  0.200783499\n",
       "140  0.154832192\n",
       "141  2.633552413\n",
       "142  0.761349817\n",
       "143 -0.786823109\n",
       "144 -0.476590617\n",
       "145 -2.582758928\n",
       "146  0.455712285\n",
       "147 -0.782589994\n",
       "148  0.824600964\n",
       "149 -1.167912931\n",
       "150  0.542323388\n",
       "151  0.291596914\n",
       "152 -0.301395158\n",
       "153  0.217252507\n",
       "154 -1.279100024\n",
       "155  0.570687896\n",
       "156 -0.396487223\n",
       "157  1.367272596\n",
       "158  0.884329281\n",
       "159 -0.900607443\n",
       "160  0.105803467\n",
       "161  0.713364394\n",
       "162 -0.317145464\n",
       "163  0.750527148\n",
       "164  0.188670746\n",
       "165  0.030307086\n",
       "166 -0.158760440\n",
       "167  0.493624545\n",
       "168 -0.765493395\n",
       "169  0.077502676\n",
       "170  0.886759866\n",
       "171  0.199796103\n",
       "172 -0.785704645\n",
       "173 -2.462883408\n",
       "174  0.049025373\n",
       "175  0.435604436\n",
       "176 -1.258392385\n",
       "177 -0.522241830\n",
       "178 -0.013594204\n",
       "179 -0.072701424\n",
       "180  0.317906012\n",
       "181 -0.737717840\n",
       "182 -0.205530886\n",
       "183  0.137525681\n",
       "184  1.227733475\n",
       "185  1.110802630\n",
       "186  0.778595330\n",
       "187 -1.679844715\n",
       "188 -1.275472975\n",
       "189  0.185839844\n",
       "190 -1.529598042\n",
       "191  0.442630554\n",
       "192  0.287644848\n",
       "193  0.667682454\n",
       "194 -0.139445032\n",
       "195  1.094717889\n",
       "196 -0.393788803\n",
       "197 -0.319064793\n",
       "198 -0.313574092\n",
       "199 -0.242352880\n",
       "200  0.354660407\n",
       "\n",
       "with conditional variances for \"patient\" \n",
       "\n",
       "$mse\n",
       "[1] 83.51495\n",
       "\n",
       "$alpha_screen\n",
       "[1] 0.9\n",
       "\n",
       "$alpha_select\n",
       "[1] 0.8\n",
       "\n",
       "$alpha_predict\n",
       "[1] 0.2\n",
       "\n",
       "$maxdepth_factor_select\n",
       "[1] 0.5\n",
       "\n",
       "$maxdepth_factor_screen\n",
       "[1] 0.2\n",
       "\n",
       "$minsize_multiplier\n",
       "[1] 5\n",
       "\n",
       "$final_selection\n",
       "[1] \"V1\"   \"V2\"   \"V41\"  \"V42\"  \"V53\"  \"V103\" \"V301\" \"V302\"\n",
       "\n",
       "$Fuzzy\n",
       "[1] TRUE\n",
       "\n",
       "$time\n",
       "   user  system elapsed \n",
       "  20.50    0.08   21.00 \n"
      ]
     },
     "metadata": {},
     "output_type": "display_data"
    }
   ],
   "source": [
    "mytree"
   ]
  },
  {
   "cell_type": "markdown",
   "metadata": {},
   "source": [
    "# Save the results"
   ]
  },
  {
   "cell_type": "code",
   "execution_count": 331,
   "metadata": {},
   "outputs": [],
   "source": [
    "save_item = list(tree=mytree,mse=mse,alpha_screen=alpha_screen,\n",
    "                 alpha_select = alpha_select, alpha_predict=alpha_predict,\n",
    "                 maxdepth_factor_select=maxdepth_factor_select,\n",
    "                 maxdepth_factor_screen=maxdepth_factor_screen,\n",
    "                 minsize_multiplier = minsize_multiplier, \n",
    "                 final_selection = mytree$final_selection, Fuzzy=Fuzzy,time=time)\n",
    "name = paste(\"Longtree_n\",n,\".rds\",sep=\"\")\n",
    "saveRDS(save_item, name)"
   ]
  },
  {
   "cell_type": "code",
   "execution_count": 11,
   "metadata": {},
   "outputs": [],
   "source": [
    "# retrieve information from the saved data\n",
    "tmp = readRDS(\"Longtree_n100.rds\")\n",
    "# tmp[2:length(tmp)]"
   ]
  },
  {
   "cell_type": "markdown",
   "metadata": {},
   "source": [
    "# Prediction step tuning"
   ]
  },
  {
   "cell_type": "code",
   "execution_count": 7,
   "metadata": {},
   "outputs": [
    {
     "data": {
      "text/plain": [
       "   user  system elapsed \n",
       "  21.40    0.71   22.39 "
      ]
     },
     "metadata": {},
     "output_type": "display_data"
    },
    {
     "data": {
      "text/html": [
       "8.47270028261305"
      ],
      "text/latex": [
       "8.47270028261305"
      ],
      "text/markdown": [
       "8.47270028261305"
      ],
      "text/plain": [
       "[1] 8.4727"
      ]
     },
     "metadata": {},
     "output_type": "display_data"
    },
    {
     "data": {
      "text/html": [
       "7.03041154668607"
      ],
      "text/latex": [
       "7.03041154668607"
      ],
      "text/markdown": [
       "7.03041154668607"
      ],
      "text/plain": [
       "[1] 7.030412"
      ]
     },
     "metadata": {},
     "output_type": "display_data"
    }
   ],
   "source": [
    "# the final selection among all the chosen features \n",
    "var = paste(\"V\",c(1,2,3,301,302,303),sep=\"\")\n",
    "regress_var = c(\"time\",\"time2\",var)\n",
    "split_var = c(\"treatment\",var)\n",
    "\n",
    "Formula = as.formula(paste(\"y~\",paste(regress_var,collapse = \"+\"),\n",
    "                   \"|\",cluster,\"|\",\n",
    "                 paste(split_var,collapse = \"+\")))\n",
    "system.time({mytree = lmertree(Formula, data = data,alpha = 0.05,maxdepth=7,\n",
    "                              minsize=20)}) \n",
    "mean((predict(mytree,newdata=data_valid,re.form=NA)-data_valid$y)**2)\n",
    "mean((predict(mytree,newdata=data_test,re.form=NA)-data_test$y)**2)\n",
    "# coef(mytree)"
   ]
  },
  {
   "cell_type": "markdown",
   "metadata": {},
   "source": [
    "# Theorectically the best"
   ]
  },
  {
   "cell_type": "code",
   "execution_count": 48,
   "metadata": {},
   "outputs": [
    {
     "data": {
      "text/plain": [
       "   user  system elapsed \n",
       "   0.95    0.00    0.99 "
      ]
     },
     "metadata": {},
     "output_type": "display_data"
    },
    {
     "data": {
      "text/html": [
       "25.6564303883656"
      ],
      "text/latex": [
       "25.6564303883656"
      ],
      "text/markdown": [
       "25.6564303883656"
      ],
      "text/plain": [
       "[1] 25.65643"
      ]
     },
     "metadata": {},
     "output_type": "display_data"
    },
    {
     "data": {
      "text/html": [
       "28.9113005336002"
      ],
      "text/latex": [
       "28.9113005336002"
      ],
      "text/markdown": [
       "28.9113005336002"
      ],
      "text/plain": [
       "[1] 28.9113"
      ]
     },
     "metadata": {},
     "output_type": "display_data"
    }
   ],
   "source": [
    "# the final selection among all the chosen features \n",
    "var = paste(\"V\",c(1,2,3,301,302,303),sep=\"\")\n",
    "regress_var = c(\"time\",\"time2\",var)\n",
    "split_var = c(\"treatment\",var)\n",
    "\n",
    "Formula = as.formula(paste(\"y~\",paste(regress_var,collapse = \"+\"),\n",
    "                   \"|\",cluster,\"|\",\n",
    "                 paste(split_var,collapse = \"+\")))\n",
    "system.time({mytree = lmertree(Formula, data = data,alpha = 0.2,maxdepth=6,\n",
    "                              minsize=NULL)}) \n",
    "mean((predict(mytree,newdata=data_valid,re.form=NA)-data_valid$y)**2)\n",
    "mean((predict(mytree,newdata=data_test,re.form=NA)-data_test$y)**2)\n",
    "# coef(mytree)"
   ]
  },
  {
   "cell_type": "code",
   "execution_count": 61,
   "metadata": {},
   "outputs": [
    {
     "data": {
      "text/plain": [
       "   user  system elapsed \n",
       "   0.97    0.00    1.04 "
      ]
     },
     "metadata": {},
     "output_type": "display_data"
    },
    {
     "data": {
      "text/html": [
       "19.044267144151"
      ],
      "text/latex": [
       "19.044267144151"
      ],
      "text/markdown": [
       "19.044267144151"
      ],
      "text/plain": [
       "[1] 19.04427"
      ]
     },
     "metadata": {},
     "output_type": "display_data"
    },
    {
     "data": {
      "text/html": [
       "19.8986767761196"
      ],
      "text/latex": [
       "19.8986767761196"
      ],
      "text/markdown": [
       "19.8986767761196"
      ],
      "text/plain": [
       "[1] 19.89868"
      ]
     },
     "metadata": {},
     "output_type": "display_data"
    }
   ],
   "source": [
    "# the final selection among all the chosen features \n",
    "var = paste(\"V\",c(1,2,3,301,302,303),sep=\"\")\n",
    "regress_var = c(\"time\",\"time2\",var)\n",
    "split_var = c(\"treatment\",var)\n",
    "\n",
    "Formula = as.formula(paste(\"y~\",paste(regress_var,collapse = \"+\"),\n",
    "                   \"|\",cluster,\"|\",\n",
    "                 paste(split_var,collapse = \"+\")))\n",
    "system.time({mytree = lmertree(Formula, data = data,alpha = 0.05,maxdepth=6,\n",
    "                              minsize=10)}) \n",
    "mean((predict(mytree,newdata=data_valid,re.form=NA)-data_valid$y)**2)\n",
    "mean((predict(mytree,newdata=data_test,re.form=NA)-data_test$y)**2)\n",
    "# coef(mytree)"
   ]
  }
 ],
 "metadata": {
  "kernelspec": {
   "display_name": "R",
   "language": "R",
   "name": "ir"
  },
  "language_info": {
   "codemirror_mode": "r",
   "file_extension": ".r",
   "mimetype": "text/x-r-source",
   "name": "R",
   "pygments_lexer": "r",
   "version": "3.6.0"
  }
 },
 "nbformat": 4,
 "nbformat_minor": 2
}
