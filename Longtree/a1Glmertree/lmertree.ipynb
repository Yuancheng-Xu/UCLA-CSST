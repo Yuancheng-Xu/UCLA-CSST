{
 "cells": [
  {
   "cell_type": "code",
   "execution_count": 2,
   "metadata": {},
   "outputs": [
    {
     "name": "stderr",
     "output_type": "stream",
     "text": [
      "Warning message:\n",
      "\"package 'glmertree' was built under R version 3.6.1\"Loading required package: lme4\n",
      "Warning message:\n",
      "\"package 'lme4' was built under R version 3.6.1\"Loading required package: Matrix\n",
      "Loading required package: partykit\n",
      "Warning message:\n",
      "\"package 'partykit' was built under R version 3.6.1\"Loading required package: grid\n",
      "Loading required package: libcoin\n",
      "Warning message:\n",
      "\"package 'libcoin' was built under R version 3.6.1\"Loading required package: mvtnorm\n"
     ]
    }
   ],
   "source": [
    "source(\"../Data Generator.r\")\n",
    "library(glmertree)"
   ]
  },
  {
   "cell_type": "code",
   "execution_count": 22,
   "metadata": {},
   "outputs": [],
   "source": [
    "### training, validation and test set ###\n",
    "set.seed(100)\n",
    "n = 400\n",
    "p = 400\n",
    "imp_mod = c(1,4)\n",
    "var_noise = 1\n",
    "data = sim_time(n=n,p=p,imp_mod=imp_mod, var_noise=var_noise,a1=1,a2=-1)\n",
    "data$time2 = (data$time)^2\n",
    "\n",
    "# test set (used for testing performance using optimal parameters)\n",
    "set.seed(101)\n",
    "n_test = 100\n",
    "data_test = sim_time(n=n_test,p=p,imp_mod=imp_mod, var_noise=var_noise,a1=1,a2=-1)\n",
    "data_test$time2 = (data_test$time)^2\n",
    "\n",
    "# validation set (used for tuning parameters)\n",
    "set.seed(102)\n",
    "n_valid = 100\n",
    "data_valid = sim_time(n=n_valid,p=p,imp_mod=imp_mod, var_noise=var_noise,a1=1,a2=-1)\n",
    "data_valid$time2 = (data_valid$time)^2\n",
    "###"
   ]
  },
  {
   "cell_type": "markdown",
   "metadata": {},
   "source": [
    "# Use var as regressors and split"
   ]
  },
  {
   "cell_type": "code",
   "execution_count": null,
   "metadata": {
    "scrolled": true
   },
   "outputs": [],
   "source": [
    "# the final selection among all the chosen features \n",
    "var = paste(\"V\",1:400,sep=\"\")\n",
    "regress_var = c(\"time\",\"time2\",var)\n",
    "split_var = c(\"treatment\",var)\n",
    "cluster = \"patient\"\n",
    "\n",
    "Formula = as.formula(paste(\"y~\",paste(regress_var,collapse = \"+\"),\n",
    "                   \"|\",cluster,\"|\",\n",
    "                 paste(split_var,collapse = \"+\")))\n",
    "system.time({mytree = lmertree(Formula, data = data,alpha = 0.05,maxdepth=7,\n",
    "                              minsize=20)}) \n",
    "mean((predict(mytree,newdata=data_valid,re.form=NA)-data_valid$y)**2)\n",
    "mean((predict(mytree,newdata=data_test,re.form=NA)-data_test$y)**2)\n",
    "# coef(mytree)"
   ]
  },
  {
   "cell_type": "markdown",
   "metadata": {},
   "source": [
    "# Just use var as splitting"
   ]
  },
  {
   "cell_type": "code",
   "execution_count": 15,
   "metadata": {},
   "outputs": [
    {
     "data": {
      "text/plain": [
       "   user  system elapsed \n",
       "   7.63    0.03    7.67 "
      ]
     },
     "metadata": {},
     "output_type": "display_data"
    },
    {
     "data": {
      "text/html": [
       "64.1674975935419"
      ],
      "text/latex": [
       "64.1674975935419"
      ],
      "text/markdown": [
       "64.1674975935419"
      ],
      "text/plain": [
       "[1] 64.1675"
      ]
     },
     "metadata": {},
     "output_type": "display_data"
    },
    {
     "data": {
      "text/html": [
       "71.3984416491243"
      ],
      "text/latex": [
       "71.3984416491243"
      ],
      "text/markdown": [
       "71.3984416491243"
      ],
      "text/plain": [
       "[1] 71.39844"
      ]
     },
     "metadata": {},
     "output_type": "display_data"
    }
   ],
   "source": [
    "# the final selection among all the chosen features \n",
    "var = paste(\"V\",c(1,2,3,301,302,303),sep=\"\")\n",
    "regress_var = c(\"time\",\"time2\")\n",
    "split_var = c(\"treatment\",var)\n",
    "cluster = \"patient\"\n",
    "\n",
    "Formula = as.formula(paste(\"y~\",paste(regress_var,collapse = \"+\"),\n",
    "                   \"|\",cluster,\"|\",\n",
    "                 paste(split_var,collapse = \"+\")))\n",
    "system.time({mytree = lmertree(Formula, data = data,alpha = 0.05,maxdepth=7,\n",
    "                              minsize=20)}) \n",
    "mean((predict(mytree,newdata=data_valid,re.form=NA)-data_valid$y)**2)\n",
    "mean((predict(mytree,newdata=data_test,re.form=NA)-data_test$y)**2)\n",
    "# coef(mytree)"
   ]
  },
  {
   "cell_type": "markdown",
   "metadata": {},
   "source": [
    "# Use all of features as splitting"
   ]
  },
  {
   "cell_type": "code",
   "execution_count": 21,
   "metadata": {},
   "outputs": [
    {
     "name": "stderr",
     "output_type": "stream",
     "text": [
      "Warning message in checkConv(attr(opt, \"derivs\"), opt$par, ctrl = control$checkConv, :\n",
      "\"Model failed to converge with max|grad| = 0.00278464 (tol = 0.002, component 1)\"Warning message in checkConv(attr(opt, \"derivs\"), opt$par, ctrl = control$checkConv, :\n",
      "\"Model failed to converge with max|grad| = 0.00278464 (tol = 0.002, component 1)\""
     ]
    },
    {
     "data": {
      "text/plain": [
       "   user  system elapsed \n",
       "  17.28    0.03   18.81 "
      ]
     },
     "metadata": {},
     "output_type": "display_data"
    },
    {
     "data": {
      "text/html": [
       "75.8561904575639"
      ],
      "text/latex": [
       "75.8561904575639"
      ],
      "text/markdown": [
       "75.8561904575639"
      ],
      "text/plain": [
       "[1] 75.85619"
      ]
     },
     "metadata": {},
     "output_type": "display_data"
    },
    {
     "data": {
      "text/html": [
       "76.0292904074621"
      ],
      "text/latex": [
       "76.0292904074621"
      ],
      "text/markdown": [
       "76.0292904074621"
      ],
      "text/plain": [
       "[1] 76.02929"
      ]
     },
     "metadata": {},
     "output_type": "display_data"
    }
   ],
   "source": [
    "# the final selection among all the chosen features \n",
    "var = paste(\"V\",1:400,sep=\"\")\n",
    "regress_var = c(\"time\",\"time2\")\n",
    "split_var = c(\"treatment\",var)\n",
    "cluster = \"patient\"\n",
    "\n",
    "Formula = as.formula(paste(\"y~\",paste(regress_var,collapse = \"+\"),\n",
    "                   \"|\",cluster,\"|\",\n",
    "                 paste(split_var,collapse = \"+\")))\n",
    "system.time({mytree = lmertree(Formula, data = data,alpha = 0.05,maxdepth=10,\n",
    "                               minsize=20)}) \n",
    "mean((predict(mytree,newdata=data_valid,re.form=NA)-data_valid$y)**2)\n",
    "mean((predict(mytree,newdata=data_test,re.form=NA)-data_test$y)**2)\n",
    "# coef(mytree)"
   ]
  }
 ],
 "metadata": {
  "kernelspec": {
   "display_name": "R",
   "language": "R",
   "name": "ir"
  },
  "language_info": {
   "codemirror_mode": "r",
   "file_extension": ".r",
   "mimetype": "text/x-r-source",
   "name": "R",
   "pygments_lexer": "r",
   "version": "3.6.0"
  }
 },
 "nbformat": 4,
 "nbformat_minor": 2
}
