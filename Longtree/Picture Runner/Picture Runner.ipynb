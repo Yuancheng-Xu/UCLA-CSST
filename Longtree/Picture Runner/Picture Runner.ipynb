{
 "cells": [
  {
   "cell_type": "code",
   "execution_count": 1,
   "metadata": {},
   "outputs": [
    {
     "name": "stderr",
     "output_type": "stream",
     "text": [
      "Registered S3 methods overwritten by 'ggplot2':\n",
      "  method         from \n",
      "  [.quosures     rlang\n",
      "  c.quosures     rlang\n",
      "  print.quosures rlang\n"
     ]
    }
   ],
   "source": [
    "library(ggplot2)\n",
    "library(\"reshape2\")"
   ]
  },
  {
   "cell_type": "markdown",
   "metadata": {},
   "source": [
    "Store a0,a1,a5 in seperate dataframe and save them in rds file.\n",
    "Note that the following plot RMSE vs n"
   ]
  },
  {
   "cell_type": "markdown",
   "metadata": {},
   "source": [
    "# a1"
   ]
  },
  {
   "cell_type": "code",
   "execution_count": 2,
   "metadata": {},
   "outputs": [],
   "source": [
    "# a1\n",
    "Longtree_n = c(100,150,200,NA,300,400)\n",
    "Longtree_rmse = (c(40.8124759073105,20.4228775780486,11.7894853042513,NA,\n",
    "                 11.200079660467,9.34937924617486))^0.5\n",
    "\n",
    "FF_n = c(100,150,200,NA,300,400)\n",
    "FF_rmse = (c(47.3061432154294,37.9309988990199,35.6507306526029,\n",
    "             NA,33.3158078891706, 31.9651587159878))^0.5\n",
    "\n",
    "RF_n = c(100,NA,200,250,300,400)\n",
    "RF_rmse = (c(53.4351936801034,NA,56.7393874024402,46.3128640580033,\n",
    "             45.6212536643833, 44.4333624087787))^0.5\n",
    "\n",
    "lmertree_rmse = (c(93.0393999891423,88.695633749479,76.145612952536,\n",
    "68.9240909611754, 76.0292904074621, 77.2650568422657))^0.5\n",
    "\n",
    "n_list = c(100,150,200,250,300,400)\n",
    "df_a1 = data.frame(\"samplesize\" = n_list, \"FREEtree\" = Longtree_rmse,\n",
    "    \"FuzzyForest\" =FF_rmse, \"RandomForest\" = RF_rmse,\"LMMtree\" = lmertree_rmse)"
   ]
  },
  {
   "cell_type": "code",
   "execution_count": 3,
   "metadata": {},
   "outputs": [
    {
     "data": {
      "text/html": [
       "<table>\n",
       "<thead><tr><th scope=col>samplesize</th><th scope=col>FREEtree</th><th scope=col>FuzzyForest</th><th scope=col>RandomForest</th><th scope=col>LMMtree</th></tr></thead>\n",
       "<tbody>\n",
       "\t<tr><td>100     </td><td>6.388464</td><td>6.877946</td><td>7.309938</td><td>9.645693</td></tr>\n",
       "\t<tr><td>150     </td><td>4.519168</td><td>6.158815</td><td>      NA</td><td>9.417836</td></tr>\n",
       "\t<tr><td>200     </td><td>3.433582</td><td>5.970823</td><td>7.532555</td><td>8.726145</td></tr>\n",
       "\t<tr><td>250     </td><td>      NA</td><td>      NA</td><td>6.805356</td><td>8.302053</td></tr>\n",
       "\t<tr><td>300     </td><td>3.346652</td><td>5.771985</td><td>6.754351</td><td>8.719478</td></tr>\n",
       "\t<tr><td>400     </td><td>3.057675</td><td>5.653774</td><td>6.665835</td><td>8.790054</td></tr>\n",
       "</tbody>\n",
       "</table>\n"
      ],
      "text/latex": [
       "\\begin{tabular}{r|lllll}\n",
       " samplesize & FREEtree & FuzzyForest & RandomForest & LMMtree\\\\\n",
       "\\hline\n",
       "\t 100      & 6.388464 & 6.877946 & 7.309938 & 9.645693\\\\\n",
       "\t 150      & 4.519168 & 6.158815 &       NA & 9.417836\\\\\n",
       "\t 200      & 3.433582 & 5.970823 & 7.532555 & 8.726145\\\\\n",
       "\t 250      &       NA &       NA & 6.805356 & 8.302053\\\\\n",
       "\t 300      & 3.346652 & 5.771985 & 6.754351 & 8.719478\\\\\n",
       "\t 400      & 3.057675 & 5.653774 & 6.665835 & 8.790054\\\\\n",
       "\\end{tabular}\n"
      ],
      "text/markdown": [
       "\n",
       "| samplesize | FREEtree | FuzzyForest | RandomForest | LMMtree |\n",
       "|---|---|---|---|---|\n",
       "| 100      | 6.388464 | 6.877946 | 7.309938 | 9.645693 |\n",
       "| 150      | 4.519168 | 6.158815 |       NA | 9.417836 |\n",
       "| 200      | 3.433582 | 5.970823 | 7.532555 | 8.726145 |\n",
       "| 250      |       NA |       NA | 6.805356 | 8.302053 |\n",
       "| 300      | 3.346652 | 5.771985 | 6.754351 | 8.719478 |\n",
       "| 400      | 3.057675 | 5.653774 | 6.665835 | 8.790054 |\n",
       "\n"
      ],
      "text/plain": [
       "  samplesize FREEtree FuzzyForest RandomForest LMMtree \n",
       "1 100        6.388464 6.877946    7.309938     9.645693\n",
       "2 150        4.519168 6.158815          NA     9.417836\n",
       "3 200        3.433582 5.970823    7.532555     8.726145\n",
       "4 250              NA       NA    6.805356     8.302053\n",
       "5 300        3.346652 5.771985    6.754351     8.719478\n",
       "6 400        3.057675 5.653774    6.665835     8.790054"
      ]
     },
     "metadata": {},
     "output_type": "display_data"
    }
   ],
   "source": [
    "df_a1"
   ]
  },
  {
   "cell_type": "code",
   "execution_count": 4,
   "metadata": {},
   "outputs": [
    {
     "data": {
      "text/html": [
       "<table>\n",
       "<thead><tr><th scope=col>samplesize</th><th scope=col>variable</th><th scope=col>value</th></tr></thead>\n",
       "<tbody>\n",
       "\t<tr><td>100         </td><td>FREEtree    </td><td>6.388464    </td></tr>\n",
       "\t<tr><td>150         </td><td>FREEtree    </td><td>4.519168    </td></tr>\n",
       "\t<tr><td>200         </td><td>FREEtree    </td><td>3.433582    </td></tr>\n",
       "\t<tr><td>250         </td><td>FREEtree    </td><td>      NA    </td></tr>\n",
       "\t<tr><td>300         </td><td>FREEtree    </td><td>3.346652    </td></tr>\n",
       "\t<tr><td>400         </td><td>FREEtree    </td><td>3.057675    </td></tr>\n",
       "\t<tr><td>100         </td><td>FuzzyForest </td><td>6.877946    </td></tr>\n",
       "\t<tr><td>150         </td><td>FuzzyForest </td><td>6.158815    </td></tr>\n",
       "\t<tr><td>200         </td><td>FuzzyForest </td><td>5.970823    </td></tr>\n",
       "\t<tr><td>250         </td><td>FuzzyForest </td><td>      NA    </td></tr>\n",
       "\t<tr><td>300         </td><td>FuzzyForest </td><td>5.771985    </td></tr>\n",
       "\t<tr><td>400         </td><td>FuzzyForest </td><td>5.653774    </td></tr>\n",
       "\t<tr><td>100         </td><td>RandomForest</td><td>7.309938    </td></tr>\n",
       "\t<tr><td>150         </td><td>RandomForest</td><td>      NA    </td></tr>\n",
       "\t<tr><td>200         </td><td>RandomForest</td><td>7.532555    </td></tr>\n",
       "\t<tr><td>250         </td><td>RandomForest</td><td>6.805356    </td></tr>\n",
       "\t<tr><td>300         </td><td>RandomForest</td><td>6.754351    </td></tr>\n",
       "\t<tr><td>400         </td><td>RandomForest</td><td>6.665835    </td></tr>\n",
       "\t<tr><td>100         </td><td>LMMtree     </td><td>9.645693    </td></tr>\n",
       "\t<tr><td>150         </td><td>LMMtree     </td><td>9.417836    </td></tr>\n",
       "\t<tr><td>200         </td><td>LMMtree     </td><td>8.726145    </td></tr>\n",
       "\t<tr><td>250         </td><td>LMMtree     </td><td>8.302053    </td></tr>\n",
       "\t<tr><td>300         </td><td>LMMtree     </td><td>8.719478    </td></tr>\n",
       "\t<tr><td>400         </td><td>LMMtree     </td><td>8.790054    </td></tr>\n",
       "</tbody>\n",
       "</table>\n"
      ],
      "text/latex": [
       "\\begin{tabular}{r|lll}\n",
       " samplesize & variable & value\\\\\n",
       "\\hline\n",
       "\t 100          & FREEtree     & 6.388464    \\\\\n",
       "\t 150          & FREEtree     & 4.519168    \\\\\n",
       "\t 200          & FREEtree     & 3.433582    \\\\\n",
       "\t 250          & FREEtree     &       NA    \\\\\n",
       "\t 300          & FREEtree     & 3.346652    \\\\\n",
       "\t 400          & FREEtree     & 3.057675    \\\\\n",
       "\t 100          & FuzzyForest  & 6.877946    \\\\\n",
       "\t 150          & FuzzyForest  & 6.158815    \\\\\n",
       "\t 200          & FuzzyForest  & 5.970823    \\\\\n",
       "\t 250          & FuzzyForest  &       NA    \\\\\n",
       "\t 300          & FuzzyForest  & 5.771985    \\\\\n",
       "\t 400          & FuzzyForest  & 5.653774    \\\\\n",
       "\t 100          & RandomForest & 7.309938    \\\\\n",
       "\t 150          & RandomForest &       NA    \\\\\n",
       "\t 200          & RandomForest & 7.532555    \\\\\n",
       "\t 250          & RandomForest & 6.805356    \\\\\n",
       "\t 300          & RandomForest & 6.754351    \\\\\n",
       "\t 400          & RandomForest & 6.665835    \\\\\n",
       "\t 100          & LMMtree      & 9.645693    \\\\\n",
       "\t 150          & LMMtree      & 9.417836    \\\\\n",
       "\t 200          & LMMtree      & 8.726145    \\\\\n",
       "\t 250          & LMMtree      & 8.302053    \\\\\n",
       "\t 300          & LMMtree      & 8.719478    \\\\\n",
       "\t 400          & LMMtree      & 8.790054    \\\\\n",
       "\\end{tabular}\n"
      ],
      "text/markdown": [
       "\n",
       "| samplesize | variable | value |\n",
       "|---|---|---|\n",
       "| 100          | FREEtree     | 6.388464     |\n",
       "| 150          | FREEtree     | 4.519168     |\n",
       "| 200          | FREEtree     | 3.433582     |\n",
       "| 250          | FREEtree     |       NA     |\n",
       "| 300          | FREEtree     | 3.346652     |\n",
       "| 400          | FREEtree     | 3.057675     |\n",
       "| 100          | FuzzyForest  | 6.877946     |\n",
       "| 150          | FuzzyForest  | 6.158815     |\n",
       "| 200          | FuzzyForest  | 5.970823     |\n",
       "| 250          | FuzzyForest  |       NA     |\n",
       "| 300          | FuzzyForest  | 5.771985     |\n",
       "| 400          | FuzzyForest  | 5.653774     |\n",
       "| 100          | RandomForest | 7.309938     |\n",
       "| 150          | RandomForest |       NA     |\n",
       "| 200          | RandomForest | 7.532555     |\n",
       "| 250          | RandomForest | 6.805356     |\n",
       "| 300          | RandomForest | 6.754351     |\n",
       "| 400          | RandomForest | 6.665835     |\n",
       "| 100          | LMMtree      | 9.645693     |\n",
       "| 150          | LMMtree      | 9.417836     |\n",
       "| 200          | LMMtree      | 8.726145     |\n",
       "| 250          | LMMtree      | 8.302053     |\n",
       "| 300          | LMMtree      | 8.719478     |\n",
       "| 400          | LMMtree      | 8.790054     |\n",
       "\n"
      ],
      "text/plain": [
       "   samplesize variable     value   \n",
       "1  100        FREEtree     6.388464\n",
       "2  150        FREEtree     4.519168\n",
       "3  200        FREEtree     3.433582\n",
       "4  250        FREEtree           NA\n",
       "5  300        FREEtree     3.346652\n",
       "6  400        FREEtree     3.057675\n",
       "7  100        FuzzyForest  6.877946\n",
       "8  150        FuzzyForest  6.158815\n",
       "9  200        FuzzyForest  5.970823\n",
       "10 250        FuzzyForest        NA\n",
       "11 300        FuzzyForest  5.771985\n",
       "12 400        FuzzyForest  5.653774\n",
       "13 100        RandomForest 7.309938\n",
       "14 150        RandomForest       NA\n",
       "15 200        RandomForest 7.532555\n",
       "16 250        RandomForest 6.805356\n",
       "17 300        RandomForest 6.754351\n",
       "18 400        RandomForest 6.665835\n",
       "19 100        LMMtree      9.645693\n",
       "20 150        LMMtree      9.417836\n",
       "21 200        LMMtree      8.726145\n",
       "22 250        LMMtree      8.302053\n",
       "23 300        LMMtree      8.719478\n",
       "24 400        LMMtree      8.790054"
      ]
     },
     "metadata": {},
     "output_type": "display_data"
    }
   ],
   "source": [
    "df_a1_long <- melt(df_a1, id=\"samplesize\")  # convert to long format\n",
    "df_a1_long"
   ]
  },
  {
   "cell_type": "code",
   "execution_count": 5,
   "metadata": {},
   "outputs": [
    {
     "data": {
      "text/html": [
       "<table>\n",
       "<thead><tr><th></th><th scope=col>samplesize</th><th scope=col>variable</th><th scope=col>value</th></tr></thead>\n",
       "<tbody>\n",
       "\t<tr><th scope=row>1</th><td>100         </td><td>FREEtree    </td><td>6.388464    </td></tr>\n",
       "\t<tr><th scope=row>2</th><td>150         </td><td>FREEtree    </td><td>4.519168    </td></tr>\n",
       "\t<tr><th scope=row>3</th><td>200         </td><td>FREEtree    </td><td>3.433582    </td></tr>\n",
       "\t<tr><th scope=row>5</th><td>300         </td><td>FREEtree    </td><td>3.346652    </td></tr>\n",
       "\t<tr><th scope=row>6</th><td>400         </td><td>FREEtree    </td><td>3.057675    </td></tr>\n",
       "\t<tr><th scope=row>7</th><td>100         </td><td>FuzzyForest </td><td>6.877946    </td></tr>\n",
       "\t<tr><th scope=row>8</th><td>150         </td><td>FuzzyForest </td><td>6.158815    </td></tr>\n",
       "\t<tr><th scope=row>9</th><td>200         </td><td>FuzzyForest </td><td>5.970823    </td></tr>\n",
       "\t<tr><th scope=row>11</th><td>300         </td><td>FuzzyForest </td><td>5.771985    </td></tr>\n",
       "\t<tr><th scope=row>12</th><td>400         </td><td>FuzzyForest </td><td>5.653774    </td></tr>\n",
       "\t<tr><th scope=row>13</th><td>100         </td><td>RandomForest</td><td>7.309938    </td></tr>\n",
       "\t<tr><th scope=row>15</th><td>200         </td><td>RandomForest</td><td>7.532555    </td></tr>\n",
       "\t<tr><th scope=row>16</th><td>250         </td><td>RandomForest</td><td>6.805356    </td></tr>\n",
       "\t<tr><th scope=row>17</th><td>300         </td><td>RandomForest</td><td>6.754351    </td></tr>\n",
       "\t<tr><th scope=row>18</th><td>400         </td><td>RandomForest</td><td>6.665835    </td></tr>\n",
       "\t<tr><th scope=row>19</th><td>100         </td><td>LMMtree     </td><td>9.645693    </td></tr>\n",
       "\t<tr><th scope=row>20</th><td>150         </td><td>LMMtree     </td><td>9.417836    </td></tr>\n",
       "\t<tr><th scope=row>21</th><td>200         </td><td>LMMtree     </td><td>8.726145    </td></tr>\n",
       "\t<tr><th scope=row>22</th><td>250         </td><td>LMMtree     </td><td>8.302053    </td></tr>\n",
       "\t<tr><th scope=row>23</th><td>300         </td><td>LMMtree     </td><td>8.719478    </td></tr>\n",
       "\t<tr><th scope=row>24</th><td>400         </td><td>LMMtree     </td><td>8.790054    </td></tr>\n",
       "</tbody>\n",
       "</table>\n"
      ],
      "text/latex": [
       "\\begin{tabular}{r|lll}\n",
       "  & samplesize & variable & value\\\\\n",
       "\\hline\n",
       "\t1 & 100          & FREEtree     & 6.388464    \\\\\n",
       "\t2 & 150          & FREEtree     & 4.519168    \\\\\n",
       "\t3 & 200          & FREEtree     & 3.433582    \\\\\n",
       "\t5 & 300          & FREEtree     & 3.346652    \\\\\n",
       "\t6 & 400          & FREEtree     & 3.057675    \\\\\n",
       "\t7 & 100          & FuzzyForest  & 6.877946    \\\\\n",
       "\t8 & 150          & FuzzyForest  & 6.158815    \\\\\n",
       "\t9 & 200          & FuzzyForest  & 5.970823    \\\\\n",
       "\t11 & 300          & FuzzyForest  & 5.771985    \\\\\n",
       "\t12 & 400          & FuzzyForest  & 5.653774    \\\\\n",
       "\t13 & 100          & RandomForest & 7.309938    \\\\\n",
       "\t15 & 200          & RandomForest & 7.532555    \\\\\n",
       "\t16 & 250          & RandomForest & 6.805356    \\\\\n",
       "\t17 & 300          & RandomForest & 6.754351    \\\\\n",
       "\t18 & 400          & RandomForest & 6.665835    \\\\\n",
       "\t19 & 100          & LMMtree      & 9.645693    \\\\\n",
       "\t20 & 150          & LMMtree      & 9.417836    \\\\\n",
       "\t21 & 200          & LMMtree      & 8.726145    \\\\\n",
       "\t22 & 250          & LMMtree      & 8.302053    \\\\\n",
       "\t23 & 300          & LMMtree      & 8.719478    \\\\\n",
       "\t24 & 400          & LMMtree      & 8.790054    \\\\\n",
       "\\end{tabular}\n"
      ],
      "text/markdown": [
       "\n",
       "| <!--/--> | samplesize | variable | value |\n",
       "|---|---|---|---|\n",
       "| 1 | 100          | FREEtree     | 6.388464     |\n",
       "| 2 | 150          | FREEtree     | 4.519168     |\n",
       "| 3 | 200          | FREEtree     | 3.433582     |\n",
       "| 5 | 300          | FREEtree     | 3.346652     |\n",
       "| 6 | 400          | FREEtree     | 3.057675     |\n",
       "| 7 | 100          | FuzzyForest  | 6.877946     |\n",
       "| 8 | 150          | FuzzyForest  | 6.158815     |\n",
       "| 9 | 200          | FuzzyForest  | 5.970823     |\n",
       "| 11 | 300          | FuzzyForest  | 5.771985     |\n",
       "| 12 | 400          | FuzzyForest  | 5.653774     |\n",
       "| 13 | 100          | RandomForest | 7.309938     |\n",
       "| 15 | 200          | RandomForest | 7.532555     |\n",
       "| 16 | 250          | RandomForest | 6.805356     |\n",
       "| 17 | 300          | RandomForest | 6.754351     |\n",
       "| 18 | 400          | RandomForest | 6.665835     |\n",
       "| 19 | 100          | LMMtree      | 9.645693     |\n",
       "| 20 | 150          | LMMtree      | 9.417836     |\n",
       "| 21 | 200          | LMMtree      | 8.726145     |\n",
       "| 22 | 250          | LMMtree      | 8.302053     |\n",
       "| 23 | 300          | LMMtree      | 8.719478     |\n",
       "| 24 | 400          | LMMtree      | 8.790054     |\n",
       "\n"
      ],
      "text/plain": [
       "   samplesize variable     value   \n",
       "1  100        FREEtree     6.388464\n",
       "2  150        FREEtree     4.519168\n",
       "3  200        FREEtree     3.433582\n",
       "5  300        FREEtree     3.346652\n",
       "6  400        FREEtree     3.057675\n",
       "7  100        FuzzyForest  6.877946\n",
       "8  150        FuzzyForest  6.158815\n",
       "9  200        FuzzyForest  5.970823\n",
       "11 300        FuzzyForest  5.771985\n",
       "12 400        FuzzyForest  5.653774\n",
       "13 100        RandomForest 7.309938\n",
       "15 200        RandomForest 7.532555\n",
       "16 250        RandomForest 6.805356\n",
       "17 300        RandomForest 6.754351\n",
       "18 400        RandomForest 6.665835\n",
       "19 100        LMMtree      9.645693\n",
       "20 150        LMMtree      9.417836\n",
       "21 200        LMMtree      8.726145\n",
       "22 250        LMMtree      8.302053\n",
       "23 300        LMMtree      8.719478\n",
       "24 400        LMMtree      8.790054"
      ]
     },
     "metadata": {},
     "output_type": "display_data"
    }
   ],
   "source": [
    "df_a1_long[complete.cases(df_a1_long),] # does not contain NA"
   ]
  },
  {
   "cell_type": "code",
   "execution_count": 6,
   "metadata": {},
   "outputs": [
    {
     "name": "stderr",
     "output_type": "stream",
     "text": [
      "Saving 6.67 x 6.67 in image\n"
     ]
    },
    {
     "data": {
      "image/png": "[encoded data removed]",
      "text/plain": [
       "plot without title"
      ]
     },
     "metadata": {},
     "output_type": "display_data"
    }
   ],
   "source": [
    "g = ggplot(data=df_a1_long[complete.cases(df_a1_long),] , \n",
    "       aes(x=samplesize, y=value, colour=variable)) +  \n",
    "geom_line(size=1)+geom_point(size=2,colour=\"black\") +\n",
    "labs(title=\"RMSE VS Sample Size\",\n",
    "     subtitle = \"Dataset with time-treatment interaction\",\n",
    "     y=\"RMSE of future observations\", x=\"Number of patients\")+\n",
    "theme(plot.title = element_text(hjust = 0.5),\n",
    "      plot.subtitle = element_text(hjust = 0.5))+\n",
    "labs(color='Algorithms') \n",
    "\n",
    "\n",
    "ggsave(\"a1.png\")\n",
    "g\n"
   ]
  },
  {
   "cell_type": "markdown",
   "metadata": {},
   "source": [
    "# a0"
   ]
  },
  {
   "cell_type": "code",
   "execution_count": 7,
   "metadata": {},
   "outputs": [],
   "source": [
    "# a1\n",
    "Longtree_rmse = (c(16.7707869630126,NA,10.9668944512114,NA,\n",
    "                 7.53783922180302,7.72471055777305))^0.5\n",
    "\n",
    "FF_rmse = (c(41.1148369620735,NA,34.1370751747821,NA,28.0517572241244,\n",
    "             30.0861205209041))^0.5\n",
    "\n",
    "RF_rmse = (c(57.0853782940677,NA,49.8864789184611,NA,\n",
    "             42.9293105655656, 45.0216621433965))^0.5\n",
    "\n",
    "REEM_rmse = (c(82.6952391975846,NA,72.8699981464008,NA,\n",
    "63.651255846178,74.8536962201505))^0.5\n",
    "\n",
    "n_list = c(100,150,200,250,300,400)\n",
    "df_a0 = data.frame(\"samplesize\" = n_list, \"FREEtree\" = Longtree_rmse,\n",
    "    \"FuzzyForest\" =FF_rmse, \"RandomForest\" = RF_rmse,\"REEMtree\" = REEM_rmse)"
   ]
  },
  {
   "cell_type": "code",
   "execution_count": 8,
   "metadata": {},
   "outputs": [
    {
     "name": "stderr",
     "output_type": "stream",
     "text": [
      "Saving 6.67 x 6.67 in image\n"
     ]
    },
    {
     "data": {
      "image/png": "[encoded data removed]",
      "text/plain": [
       "plot without title"
      ]
     },
     "metadata": {},
     "output_type": "display_data"
    }
   ],
   "source": [
    "df_a0_long <- melt(df_a0, id=\"samplesize\")  # convert to long format\n",
    "\n",
    "g = ggplot(data=df_a0_long[complete.cases(df_a0_long),] , \n",
    "       aes(x=samplesize, y=value, colour=variable)) +  \n",
    "geom_line(size=1)+geom_point(size=2,colour=\"black\") +\n",
    "labs(title=\"RMSE VS Sample Size\",\n",
    "     subtitle = \"Dataset with only random intercepts\",\n",
    "     y=\"RMSE of future observations\", x=\"Number of patients\")+\n",
    "theme(plot.title = element_text(hjust = 0.5),\n",
    "      plot.subtitle = element_text(hjust = 0.5))+\n",
    "labs(color='Algorithms') \n",
    "\n",
    "\n",
    "ggsave(\"a0.png\")\n",
    "g\n"
   ]
  },
  {
   "cell_type": "markdown",
   "metadata": {},
   "source": [
    "# Feature selection"
   ]
  },
  {
   "cell_type": "code",
   "execution_count": null,
   "metadata": {},
   "outputs": [],
   "source": []
  }
 ],
 "metadata": {
  "kernelspec": {
   "display_name": "R",
   "language": "R",
   "name": "ir"
  },
  "language_info": {
   "codemirror_mode": "r",
   "file_extension": ".r",
   "mimetype": "text/x-r-source",
   "name": "R",
   "pygments_lexer": "r",
   "version": "3.6.0"
  }
 },
 "nbformat": 4,
 "nbformat_minor": 2
}
